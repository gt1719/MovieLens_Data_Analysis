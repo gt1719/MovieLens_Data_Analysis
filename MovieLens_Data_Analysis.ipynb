{
 "cells": [
  {
   "cell_type": "markdown",
   "metadata": {},
   "source": [
    "# MovieLens Data Analysis"
   ]
  },
  {
   "cell_type": "markdown",
   "metadata": {},
   "source": [
    "- Student name: Gamze Turan\n",
    "- Student pace: self paced\n",
    "- Scheduled project review date/time: \n",
    "- Instructor name: Claude Fried\n",
    "- Blog post URL: "
   ]
  },
  {
   "cell_type": "markdown",
   "metadata": {},
   "source": [
    "<img align=\"center\" width=\"900\" height=\"300\" src='Images/MovieLens.png'>"
   ]
  },
  {
   "cell_type": "markdown",
   "metadata": {},
   "source": [
    "## Overview"
   ]
  },
  {
   "cell_type": "markdown",
   "metadata": {},
   "source": [
    "Movielens is a website that helps users find movies they will like. It users ratings given by the user to build a custom taste profile of that particular user and then utilizes that information to recommend other movies for the user to watch."
   ]
  },
  {
   "cell_type": "markdown",
   "metadata": {},
   "source": [
    "## Business Understanding"
   ]
  },
  {
   "cell_type": "markdown",
   "metadata": {},
   "source": [
    "<img align=\"left\" width=\"600\" height=\"300\" src='Images/main-screen.png'>"
   ]
  },
  {
   "cell_type": "markdown",
   "metadata": {},
   "source": [
    "In this analysis, I will try to build a variety of engines and improve upon predictions iteratively so that the end user can be provided with better movie suggestions."
   ]
  },
  {
   "cell_type": "markdown",
   "metadata": {},
   "source": [
    "## Data Understanding"
   ]
  },
  {
   "cell_type": "markdown",
   "metadata": {},
   "source": [
    "The datasets describe ratings and free-text tagging activities from [MovieLens](https://movielens.org/), a movie recommendation service.\n",
    "\n",
    "  > Source: F. Maxwell Harper and Joseph A. Konstan. 2015.The MovieLens Datasets: History and Context. ACM                              Transactions on Interactive Intelligent Systems (TiiS) 5, 4: 19:1–19:19. https://doi.org/10.1145/2827872\n",
    "\n",
    "It contains 100836 ratings and 3683 tag applications across 9742 movies. These data were created by 610 users.\n",
    "\n",
    "The dataset is distributed among four csv files: links.csv, movies.csv, ratings.csv, tags.csv."
   ]
  },
  {
   "cell_type": "code",
   "execution_count": 1,
   "metadata": {},
   "outputs": [],
   "source": [
    "# importing necessary libraries\n",
    "import pandas as pd\n",
    "import numpy as pd\n",
    "from scipy.sparse import csr_matrix\n",
    "from sklearn.neighbors import NearestNeighbors\n",
    "\n",
    "import matplotlib.pyplot as plt\n",
    "import seaborn as sns\n",
    "\n",
    "import warnings\n",
    "warnings.filterwarnings('ignore')\n",
    "\n",
    "from surprise import Dataset\n",
    "from surprise import Reader\n",
    "from surprise import SVD, SVDpp\n",
    "from surprise.prediction_algorithms import KNNWithMeans, KNNBasic, KNNWithZScore\n",
    "from surprise.model_selection import GridSearchCV\n",
    "from surprise.model_selection import cross_validate\n",
    "\n",
    "import ipywidgets as widgets\n",
    "from ipywidgets import interact, interactive\n",
    "from IPython.display import display, clear_output"
   ]
  },
  {
   "cell_type": "markdown",
   "metadata": {},
   "source": [
    "## Load data"
   ]
  },
  {
   "cell_type": "markdown",
   "metadata": {},
   "source": [
    "### Movies Data"
   ]
  },
  {
   "cell_type": "markdown",
   "metadata": {},
   "source": [
    "Movie information is contained in the file movies.csv. Each line of this file after the header row represents one movie, and has the following format:\n",
    "\n",
    "   > movieId,title,genres\n",
    "\n",
    "* movieId: Unique id for each movie\n",
    "* title: Name of movies followed by their year of release\n",
    "* genres: categories that a movie might fall into separated by |"
   ]
  },
  {
   "cell_type": "code",
   "execution_count": 3,
   "metadata": {},
   "outputs": [],
   "source": [
    "import pandas as pd"
   ]
  },
  {
   "cell_type": "code",
   "execution_count": 4,
   "metadata": {},
   "outputs": [
    {
     "name": "stdout",
     "output_type": "stream",
     "text": [
      "Size of movies data: (9742, 3)\n"
     ]
    },
    {
     "data": {
      "text/html": [
       "<div>\n",
       "<style scoped>\n",
       "    .dataframe tbody tr th:only-of-type {\n",
       "        vertical-align: middle;\n",
       "    }\n",
       "\n",
       "    .dataframe tbody tr th {\n",
       "        vertical-align: top;\n",
       "    }\n",
       "\n",
       "    .dataframe thead th {\n",
       "        text-align: right;\n",
       "    }\n",
       "</style>\n",
       "<table border=\"1\" class=\"dataframe\">\n",
       "  <thead>\n",
       "    <tr style=\"text-align: right;\">\n",
       "      <th></th>\n",
       "      <th>movieId</th>\n",
       "      <th>title</th>\n",
       "      <th>genres</th>\n",
       "    </tr>\n",
       "  </thead>\n",
       "  <tbody>\n",
       "    <tr>\n",
       "      <th>0</th>\n",
       "      <td>1</td>\n",
       "      <td>Toy Story (1995)</td>\n",
       "      <td>Adventure|Animation|Children|Comedy|Fantasy</td>\n",
       "    </tr>\n",
       "    <tr>\n",
       "      <th>1</th>\n",
       "      <td>2</td>\n",
       "      <td>Jumanji (1995)</td>\n",
       "      <td>Adventure|Children|Fantasy</td>\n",
       "    </tr>\n",
       "    <tr>\n",
       "      <th>2</th>\n",
       "      <td>3</td>\n",
       "      <td>Grumpier Old Men (1995)</td>\n",
       "      <td>Comedy|Romance</td>\n",
       "    </tr>\n",
       "    <tr>\n",
       "      <th>3</th>\n",
       "      <td>4</td>\n",
       "      <td>Waiting to Exhale (1995)</td>\n",
       "      <td>Comedy|Drama|Romance</td>\n",
       "    </tr>\n",
       "    <tr>\n",
       "      <th>4</th>\n",
       "      <td>5</td>\n",
       "      <td>Father of the Bride Part II (1995)</td>\n",
       "      <td>Comedy</td>\n",
       "    </tr>\n",
       "  </tbody>\n",
       "</table>\n",
       "</div>"
      ],
      "text/plain": [
       "   movieId                               title  \\\n",
       "0        1                    Toy Story (1995)   \n",
       "1        2                      Jumanji (1995)   \n",
       "2        3             Grumpier Old Men (1995)   \n",
       "3        4            Waiting to Exhale (1995)   \n",
       "4        5  Father of the Bride Part II (1995)   \n",
       "\n",
       "                                        genres  \n",
       "0  Adventure|Animation|Children|Comedy|Fantasy  \n",
       "1                   Adventure|Children|Fantasy  \n",
       "2                               Comedy|Romance  \n",
       "3                         Comedy|Drama|Romance  \n",
       "4                                       Comedy  "
      ]
     },
     "execution_count": 4,
     "metadata": {},
     "output_type": "execute_result"
    }
   ],
   "source": [
    "movies_df = pd.read_csv('Data/movies.csv')\n",
    "print('Size of movies data:', movies_df.shape)\n",
    "movies_df.head()"
   ]
  },
  {
   "cell_type": "code",
   "execution_count": 5,
   "metadata": {},
   "outputs": [
    {
     "name": "stdout",
     "output_type": "stream",
     "text": [
      "<class 'pandas.core.frame.DataFrame'>\n",
      "RangeIndex: 9742 entries, 0 to 9741\n",
      "Data columns (total 3 columns):\n",
      " #   Column   Non-Null Count  Dtype \n",
      "---  ------   --------------  ----- \n",
      " 0   movieId  9742 non-null   int64 \n",
      " 1   title    9742 non-null   object\n",
      " 2   genres   9742 non-null   object\n",
      "dtypes: int64(1), object(2)\n",
      "memory usage: 228.5+ KB\n"
     ]
    }
   ],
   "source": [
    "movies_df.info()"
   ]
  },
  {
   "cell_type": "markdown",
   "metadata": {},
   "source": [
    "Some observations:\n",
    "\n",
    "* There are no null values in the dataset and the datatypes of each of the columns are as they should be.\n",
    "* movieID is consistent for all the other tables as well. So we can use this column to join together other datasets.\n",
    "* We can extract the year of release for a movie, from the title.\n",
    "* We will need to separate each genre into its own column to run meaningful analysis."
   ]
  },
  {
   "cell_type": "markdown",
   "metadata": {},
   "source": [
    "### Ratings Data"
   ]
  },
  {
   "cell_type": "markdown",
   "metadata": {},
   "source": [
    "Ratings information is contained in the file ratings.csv. Each line of this file after the header row represents one rating, and has the following format:\n",
    "\n",
    "   > userId,movieId,rating,timestamp\n",
    "\n",
    "* userId: Unique id for each user\n",
    "* movieId: Unique id for each movie\n",
    "* rating: Rating given by userId for movieId. Ratings are made on a 5-star scale with 0.5 increments.\n",
    "* timestamp: Time when rating was given"
   ]
  },
  {
   "cell_type": "code",
   "execution_count": 6,
   "metadata": {},
   "outputs": [
    {
     "name": "stdout",
     "output_type": "stream",
     "text": [
      "Size of ratings data: (100836, 4)\n"
     ]
    },
    {
     "data": {
      "text/html": [
       "<div>\n",
       "<style scoped>\n",
       "    .dataframe tbody tr th:only-of-type {\n",
       "        vertical-align: middle;\n",
       "    }\n",
       "\n",
       "    .dataframe tbody tr th {\n",
       "        vertical-align: top;\n",
       "    }\n",
       "\n",
       "    .dataframe thead th {\n",
       "        text-align: right;\n",
       "    }\n",
       "</style>\n",
       "<table border=\"1\" class=\"dataframe\">\n",
       "  <thead>\n",
       "    <tr style=\"text-align: right;\">\n",
       "      <th></th>\n",
       "      <th>userId</th>\n",
       "      <th>movieId</th>\n",
       "      <th>rating</th>\n",
       "      <th>timestamp</th>\n",
       "    </tr>\n",
       "  </thead>\n",
       "  <tbody>\n",
       "    <tr>\n",
       "      <th>0</th>\n",
       "      <td>1</td>\n",
       "      <td>1</td>\n",
       "      <td>4.0</td>\n",
       "      <td>964982703</td>\n",
       "    </tr>\n",
       "    <tr>\n",
       "      <th>1</th>\n",
       "      <td>1</td>\n",
       "      <td>3</td>\n",
       "      <td>4.0</td>\n",
       "      <td>964981247</td>\n",
       "    </tr>\n",
       "    <tr>\n",
       "      <th>2</th>\n",
       "      <td>1</td>\n",
       "      <td>6</td>\n",
       "      <td>4.0</td>\n",
       "      <td>964982224</td>\n",
       "    </tr>\n",
       "    <tr>\n",
       "      <th>3</th>\n",
       "      <td>1</td>\n",
       "      <td>47</td>\n",
       "      <td>5.0</td>\n",
       "      <td>964983815</td>\n",
       "    </tr>\n",
       "    <tr>\n",
       "      <th>4</th>\n",
       "      <td>1</td>\n",
       "      <td>50</td>\n",
       "      <td>5.0</td>\n",
       "      <td>964982931</td>\n",
       "    </tr>\n",
       "  </tbody>\n",
       "</table>\n",
       "</div>"
      ],
      "text/plain": [
       "   userId  movieId  rating  timestamp\n",
       "0       1        1     4.0  964982703\n",
       "1       1        3     4.0  964981247\n",
       "2       1        6     4.0  964982224\n",
       "3       1       47     5.0  964983815\n",
       "4       1       50     5.0  964982931"
      ]
     },
     "execution_count": 6,
     "metadata": {},
     "output_type": "execute_result"
    }
   ],
   "source": [
    "ratings_df = pd.read_csv('Data/ratings.csv')\n",
    "print('Size of ratings data:', ratings_df.shape)\n",
    "ratings_df.head()"
   ]
  },
  {
   "cell_type": "code",
   "execution_count": 7,
   "metadata": {},
   "outputs": [
    {
     "name": "stdout",
     "output_type": "stream",
     "text": [
      "<class 'pandas.core.frame.DataFrame'>\n",
      "RangeIndex: 100836 entries, 0 to 100835\n",
      "Data columns (total 4 columns):\n",
      " #   Column     Non-Null Count   Dtype  \n",
      "---  ------     --------------   -----  \n",
      " 0   userId     100836 non-null  int64  \n",
      " 1   movieId    100836 non-null  int64  \n",
      " 2   rating     100836 non-null  float64\n",
      " 3   timestamp  100836 non-null  int64  \n",
      "dtypes: float64(1), int64(3)\n",
      "memory usage: 3.1 MB\n"
     ]
    }
   ],
   "source": [
    "ratings_df.info()"
   ]
  },
  {
   "cell_type": "markdown",
   "metadata": {},
   "source": [
    "Some observations:\n",
    "\n",
    "* There are no null values in the dataset.\n",
    "* Timestamp doesn't seem very useful for our current analysis and can be removed."
   ]
  },
  {
   "cell_type": "markdown",
   "metadata": {},
   "source": [
    "### Links Data"
   ]
  },
  {
   "cell_type": "markdown",
   "metadata": {},
   "source": [
    "The file links.csv contains indentifiers that can be used to link this data to other data sources like IMDb. Each line of this file after the header row represents one imdb link, and has the following format:\n",
    "\n",
    "  > movieId,imdbId,tmdbId\n",
    "\n",
    "* movieId: Unique id for each movie as used by https://movielens.org.\n",
    "* imdbId: Unique id for each movie as used by http://www.imdb.com.\n",
    "* tmdbId: Unique id for each movie as used by https://www.themoviedb.org."
   ]
  },
  {
   "cell_type": "code",
   "execution_count": 8,
   "metadata": {},
   "outputs": [
    {
     "name": "stdout",
     "output_type": "stream",
     "text": [
      "Size of links data: (9742, 3)\n"
     ]
    },
    {
     "data": {
      "text/html": [
       "<div>\n",
       "<style scoped>\n",
       "    .dataframe tbody tr th:only-of-type {\n",
       "        vertical-align: middle;\n",
       "    }\n",
       "\n",
       "    .dataframe tbody tr th {\n",
       "        vertical-align: top;\n",
       "    }\n",
       "\n",
       "    .dataframe thead th {\n",
       "        text-align: right;\n",
       "    }\n",
       "</style>\n",
       "<table border=\"1\" class=\"dataframe\">\n",
       "  <thead>\n",
       "    <tr style=\"text-align: right;\">\n",
       "      <th></th>\n",
       "      <th>movieId</th>\n",
       "      <th>imdbId</th>\n",
       "      <th>tmdbId</th>\n",
       "    </tr>\n",
       "  </thead>\n",
       "  <tbody>\n",
       "    <tr>\n",
       "      <th>0</th>\n",
       "      <td>1</td>\n",
       "      <td>114709</td>\n",
       "      <td>862.0</td>\n",
       "    </tr>\n",
       "    <tr>\n",
       "      <th>1</th>\n",
       "      <td>2</td>\n",
       "      <td>113497</td>\n",
       "      <td>8844.0</td>\n",
       "    </tr>\n",
       "    <tr>\n",
       "      <th>2</th>\n",
       "      <td>3</td>\n",
       "      <td>113228</td>\n",
       "      <td>15602.0</td>\n",
       "    </tr>\n",
       "    <tr>\n",
       "      <th>3</th>\n",
       "      <td>4</td>\n",
       "      <td>114885</td>\n",
       "      <td>31357.0</td>\n",
       "    </tr>\n",
       "    <tr>\n",
       "      <th>4</th>\n",
       "      <td>5</td>\n",
       "      <td>113041</td>\n",
       "      <td>11862.0</td>\n",
       "    </tr>\n",
       "  </tbody>\n",
       "</table>\n",
       "</div>"
      ],
      "text/plain": [
       "   movieId  imdbId   tmdbId\n",
       "0        1  114709    862.0\n",
       "1        2  113497   8844.0\n",
       "2        3  113228  15602.0\n",
       "3        4  114885  31357.0\n",
       "4        5  113041  11862.0"
      ]
     },
     "execution_count": 8,
     "metadata": {},
     "output_type": "execute_result"
    }
   ],
   "source": [
    "links_df = pd.read_csv('Data/links.csv')\n",
    "print('Size of links data:', links_df.shape)\n",
    "links_df.head()"
   ]
  },
  {
   "cell_type": "code",
   "execution_count": 9,
   "metadata": {},
   "outputs": [
    {
     "name": "stdout",
     "output_type": "stream",
     "text": [
      "<class 'pandas.core.frame.DataFrame'>\n",
      "RangeIndex: 9742 entries, 0 to 9741\n",
      "Data columns (total 3 columns):\n",
      " #   Column   Non-Null Count  Dtype  \n",
      "---  ------   --------------  -----  \n",
      " 0   movieId  9742 non-null   int64  \n",
      " 1   imdbId   9742 non-null   int64  \n",
      " 2   tmdbId   9734 non-null   float64\n",
      "dtypes: float64(1), int64(2)\n",
      "memory usage: 228.5 KB\n"
     ]
    }
   ],
   "source": [
    "links_df.info()"
   ]
  },
  {
   "cell_type": "markdown",
   "metadata": {},
   "source": [
    "> This table is not very useful for our current analyses and can be ignored."
   ]
  },
  {
   "cell_type": "markdown",
   "metadata": {},
   "source": [
    "### Tags Data"
   ]
  },
  {
   "cell_type": "markdown",
   "metadata": {},
   "source": [
    "Information regarding tags is contained in the file tags.csv. Each line of this file after the header row represents one tag applied to one movie by one user, and has the following format:\n",
    "\n",
    "  > userId,movieId,tag,timestamp\n",
    "\n",
    "* userId: Unique id for each user\n",
    "* movieId: Unique id for each movie\n",
    "* tag: User-generated metadata about the movie in forms of short meaningful phrases\n",
    "* timestamp: Time when tag was provided by user"
   ]
  },
  {
   "cell_type": "code",
   "execution_count": 10,
   "metadata": {},
   "outputs": [
    {
     "name": "stdout",
     "output_type": "stream",
     "text": [
      "Size of tags data: (3683, 4)\n"
     ]
    },
    {
     "data": {
      "text/html": [
       "<div>\n",
       "<style scoped>\n",
       "    .dataframe tbody tr th:only-of-type {\n",
       "        vertical-align: middle;\n",
       "    }\n",
       "\n",
       "    .dataframe tbody tr th {\n",
       "        vertical-align: top;\n",
       "    }\n",
       "\n",
       "    .dataframe thead th {\n",
       "        text-align: right;\n",
       "    }\n",
       "</style>\n",
       "<table border=\"1\" class=\"dataframe\">\n",
       "  <thead>\n",
       "    <tr style=\"text-align: right;\">\n",
       "      <th></th>\n",
       "      <th>userId</th>\n",
       "      <th>movieId</th>\n",
       "      <th>tag</th>\n",
       "      <th>timestamp</th>\n",
       "    </tr>\n",
       "  </thead>\n",
       "  <tbody>\n",
       "    <tr>\n",
       "      <th>0</th>\n",
       "      <td>2</td>\n",
       "      <td>60756</td>\n",
       "      <td>funny</td>\n",
       "      <td>1445714994</td>\n",
       "    </tr>\n",
       "    <tr>\n",
       "      <th>1</th>\n",
       "      <td>2</td>\n",
       "      <td>60756</td>\n",
       "      <td>Highly quotable</td>\n",
       "      <td>1445714996</td>\n",
       "    </tr>\n",
       "    <tr>\n",
       "      <th>2</th>\n",
       "      <td>2</td>\n",
       "      <td>60756</td>\n",
       "      <td>will ferrell</td>\n",
       "      <td>1445714992</td>\n",
       "    </tr>\n",
       "    <tr>\n",
       "      <th>3</th>\n",
       "      <td>2</td>\n",
       "      <td>89774</td>\n",
       "      <td>Boxing story</td>\n",
       "      <td>1445715207</td>\n",
       "    </tr>\n",
       "    <tr>\n",
       "      <th>4</th>\n",
       "      <td>2</td>\n",
       "      <td>89774</td>\n",
       "      <td>MMA</td>\n",
       "      <td>1445715200</td>\n",
       "    </tr>\n",
       "  </tbody>\n",
       "</table>\n",
       "</div>"
      ],
      "text/plain": [
       "   userId  movieId              tag   timestamp\n",
       "0       2    60756            funny  1445714994\n",
       "1       2    60756  Highly quotable  1445714996\n",
       "2       2    60756     will ferrell  1445714992\n",
       "3       2    89774     Boxing story  1445715207\n",
       "4       2    89774              MMA  1445715200"
      ]
     },
     "execution_count": 10,
     "metadata": {},
     "output_type": "execute_result"
    }
   ],
   "source": [
    "tags_df = pd.read_csv('Data/tags.csv')\n",
    "print('Size of tags data:', tags_df.shape)\n",
    "tags_df.head()"
   ]
  },
  {
   "cell_type": "code",
   "execution_count": 11,
   "metadata": {},
   "outputs": [
    {
     "name": "stdout",
     "output_type": "stream",
     "text": [
      "<class 'pandas.core.frame.DataFrame'>\n",
      "RangeIndex: 3683 entries, 0 to 3682\n",
      "Data columns (total 4 columns):\n",
      " #   Column     Non-Null Count  Dtype \n",
      "---  ------     --------------  ----- \n",
      " 0   userId     3683 non-null   int64 \n",
      " 1   movieId    3683 non-null   int64 \n",
      " 2   tag        3683 non-null   object\n",
      " 3   timestamp  3683 non-null   int64 \n",
      "dtypes: int64(3), object(1)\n",
      "memory usage: 115.2+ KB\n"
     ]
    }
   ],
   "source": [
    "tags_df.info()"
   ]
  },
  {
   "cell_type": "markdown",
   "metadata": {},
   "source": [
    "## EDA - Exploratory Data Analysis and Data Cleaning"
   ]
  },
  {
   "cell_type": "code",
   "execution_count": 12,
   "metadata": {},
   "outputs": [],
   "source": [
    "# removing timestamp column from both ratings and tags as it\n",
    "ratings_df.drop(columns='timestamp', inplace=True)\n",
    "tags_df.drop(columns='timestamp', inplace=True)"
   ]
  },
  {
   "cell_type": "code",
   "execution_count": 13,
   "metadata": {},
   "outputs": [
    {
     "data": {
      "text/plain": [
       "count    100836.000000\n",
       "mean          3.501557\n",
       "std           1.042529\n",
       "min           0.500000\n",
       "25%           3.000000\n",
       "50%           3.500000\n",
       "75%           4.000000\n",
       "max           5.000000\n",
       "Name: rating, dtype: float64"
      ]
     },
     "execution_count": 13,
     "metadata": {},
     "output_type": "execute_result"
    }
   ],
   "source": [
    "ratings_df['rating'].describe()"
   ]
  },
  {
   "cell_type": "code",
   "execution_count": 14,
   "metadata": {},
   "outputs": [
    {
     "data": {
      "text/plain": [
       "4.0    26818\n",
       "3.0    20047\n",
       "5.0    13211\n",
       "3.5    13136\n",
       "4.5     8551\n",
       "2.0     7551\n",
       "2.5     5550\n",
       "1.0     2811\n",
       "1.5     1791\n",
       "0.5     1370\n",
       "Name: rating, dtype: int64"
      ]
     },
     "execution_count": 14,
     "metadata": {},
     "output_type": "execute_result"
    }
   ],
   "source": [
    "ratings_df['rating'].value_counts()"
   ]
  },
  {
   "cell_type": "code",
   "execution_count": 15,
   "metadata": {},
   "outputs": [
    {
     "data": {
      "image/png": "[encoded data removed]",
      "text/plain": [
       "<Figure size 432x288 with 1 Axes>"
      ]
     },
     "metadata": {
      "needs_background": "light"
     },
     "output_type": "display_data"
    }
   ],
   "source": [
    "sns.countplot(ratings_df['rating']);"
   ]
  },
  {
   "cell_type": "markdown",
   "metadata": {},
   "source": [
    "We observe that the mmean rating given by users is approximately `3.5` - `4` is the most common rating in the dataset.Most of the ratings in the dataset are above `3`"
   ]
  },
  {
   "cell_type": "code",
   "execution_count": 16,
   "metadata": {},
   "outputs": [],
   "source": [
    "# Extracting release year from movie title\n",
    "movies_df['year'] = movies_df['title'].str.extract('.*\\((.*)\\).*',expand = False)"
   ]
  },
  {
   "cell_type": "code",
   "execution_count": 17,
   "metadata": {},
   "outputs": [
    {
     "data": {
      "text/plain": [
       "array(['1995', '1994', '1996', '1976', '1992', '1967', '1993', '1964',\n",
       "       '1977', '1965', '1982', '1990', '1991', '1989', '1937', '1940',\n",
       "       '1969', '1981', '1973', '1970', '1955', '1959', '1968', '1988',\n",
       "       '1997', '1972', '1943', '1952', '1951', '1957', '1961', '1958',\n",
       "       '1954', '1934', '1944', '1960', '1963', '1942', '1941', '1953',\n",
       "       '1939', '1950', '1946', '1945', '1938', '1947', '1935', '1936',\n",
       "       '1956', '1949', '1932', '1975', '1974', '1971', '1979', '1987',\n",
       "       '1986', '1980', '1978', '1985', '1966', '1962', '1983', '1984',\n",
       "       '1948', '1933', '1931', '1922', '1998', '1929', '1930', '1927',\n",
       "       '1928', '1999', '2000', '1926', '1919', '1921', '1925', '1923',\n",
       "       '2001', '2002', '2003', '1920', '1915', '1924', '2004', '1916',\n",
       "       '1917', '2005', '2006', '1902', nan, '1903', '2007', '2008',\n",
       "       '2009', '2010', '2011', '2012', '2013', '2014', '2015', '2016',\n",
       "       '2017', '2018', '1908', '2006–2007'], dtype=object)"
      ]
     },
     "execution_count": 17,
     "metadata": {},
     "output_type": "execute_result"
    }
   ],
   "source": [
    "movies_df['year'].unique()"
   ]
  },
  {
   "cell_type": "markdown",
   "metadata": {},
   "source": [
    "> One value that is slightly off is '2006-2007' and the other is NaN. Let's check which movies do they correspond to:"
   ]
  },
  {
   "cell_type": "code",
   "execution_count": 18,
   "metadata": {},
   "outputs": [
    {
     "data": {
      "text/html": [
       "<div>\n",
       "<style scoped>\n",
       "    .dataframe tbody tr th:only-of-type {\n",
       "        vertical-align: middle;\n",
       "    }\n",
       "\n",
       "    .dataframe tbody tr th {\n",
       "        vertical-align: top;\n",
       "    }\n",
       "\n",
       "    .dataframe thead th {\n",
       "        text-align: right;\n",
       "    }\n",
       "</style>\n",
       "<table border=\"1\" class=\"dataframe\">\n",
       "  <thead>\n",
       "    <tr style=\"text-align: right;\">\n",
       "      <th></th>\n",
       "      <th>movieId</th>\n",
       "      <th>title</th>\n",
       "      <th>genres</th>\n",
       "      <th>year</th>\n",
       "    </tr>\n",
       "  </thead>\n",
       "  <tbody>\n",
       "    <tr>\n",
       "      <th>9518</th>\n",
       "      <td>171749</td>\n",
       "      <td>Death Note: Desu nôto (2006–2007)</td>\n",
       "      <td>(no genres listed)</td>\n",
       "      <td>2006–2007</td>\n",
       "    </tr>\n",
       "  </tbody>\n",
       "</table>\n",
       "</div>"
      ],
      "text/plain": [
       "      movieId                              title              genres  \\\n",
       "9518   171749  Death Note: Desu nôto (2006–2007)  (no genres listed)   \n",
       "\n",
       "           year  \n",
       "9518  2006–2007  "
      ]
     },
     "execution_count": 18,
     "metadata": {},
     "output_type": "execute_result"
    }
   ],
   "source": [
    "movies_df[movies_df['year'] == \"2006–2007\"]"
   ]
  },
  {
   "cell_type": "code",
   "execution_count": 19,
   "metadata": {},
   "outputs": [],
   "source": [
    "# Changing this to 2007\n",
    "movies_df['year'] = movies_df['year'].replace(\"2006–2007\",\"2007\")"
   ]
  },
  {
   "cell_type": "code",
   "execution_count": 20,
   "metadata": {},
   "outputs": [
    {
     "data": {
      "text/html": [
       "<div>\n",
       "<style scoped>\n",
       "    .dataframe tbody tr th:only-of-type {\n",
       "        vertical-align: middle;\n",
       "    }\n",
       "\n",
       "    .dataframe tbody tr th {\n",
       "        vertical-align: top;\n",
       "    }\n",
       "\n",
       "    .dataframe thead th {\n",
       "        text-align: right;\n",
       "    }\n",
       "</style>\n",
       "<table border=\"1\" class=\"dataframe\">\n",
       "  <thead>\n",
       "    <tr style=\"text-align: right;\">\n",
       "      <th></th>\n",
       "      <th>movieId</th>\n",
       "      <th>title</th>\n",
       "      <th>genres</th>\n",
       "      <th>year</th>\n",
       "    </tr>\n",
       "  </thead>\n",
       "  <tbody>\n",
       "    <tr>\n",
       "      <th>6059</th>\n",
       "      <td>40697</td>\n",
       "      <td>Babylon 5</td>\n",
       "      <td>Sci-Fi</td>\n",
       "      <td>NaN</td>\n",
       "    </tr>\n",
       "    <tr>\n",
       "      <th>9031</th>\n",
       "      <td>140956</td>\n",
       "      <td>Ready Player One</td>\n",
       "      <td>Action|Sci-Fi|Thriller</td>\n",
       "      <td>NaN</td>\n",
       "    </tr>\n",
       "    <tr>\n",
       "      <th>9091</th>\n",
       "      <td>143410</td>\n",
       "      <td>Hyena Road</td>\n",
       "      <td>(no genres listed)</td>\n",
       "      <td>NaN</td>\n",
       "    </tr>\n",
       "    <tr>\n",
       "      <th>9138</th>\n",
       "      <td>147250</td>\n",
       "      <td>The Adventures of Sherlock Holmes and Doctor W...</td>\n",
       "      <td>(no genres listed)</td>\n",
       "      <td>NaN</td>\n",
       "    </tr>\n",
       "    <tr>\n",
       "      <th>9179</th>\n",
       "      <td>149334</td>\n",
       "      <td>Nocturnal Animals</td>\n",
       "      <td>Drama|Thriller</td>\n",
       "      <td>NaN</td>\n",
       "    </tr>\n",
       "    <tr>\n",
       "      <th>9259</th>\n",
       "      <td>156605</td>\n",
       "      <td>Paterson</td>\n",
       "      <td>(no genres listed)</td>\n",
       "      <td>NaN</td>\n",
       "    </tr>\n",
       "    <tr>\n",
       "      <th>9367</th>\n",
       "      <td>162414</td>\n",
       "      <td>Moonlight</td>\n",
       "      <td>Drama</td>\n",
       "      <td>NaN</td>\n",
       "    </tr>\n",
       "    <tr>\n",
       "      <th>9448</th>\n",
       "      <td>167570</td>\n",
       "      <td>The OA</td>\n",
       "      <td>(no genres listed)</td>\n",
       "      <td>NaN</td>\n",
       "    </tr>\n",
       "    <tr>\n",
       "      <th>9514</th>\n",
       "      <td>171495</td>\n",
       "      <td>Cosmos</td>\n",
       "      <td>(no genres listed)</td>\n",
       "      <td>NaN</td>\n",
       "    </tr>\n",
       "    <tr>\n",
       "      <th>9515</th>\n",
       "      <td>171631</td>\n",
       "      <td>Maria Bamford: Old Baby</td>\n",
       "      <td>(no genres listed)</td>\n",
       "      <td>NaN</td>\n",
       "    </tr>\n",
       "    <tr>\n",
       "      <th>9525</th>\n",
       "      <td>171891</td>\n",
       "      <td>Generation Iron 2</td>\n",
       "      <td>(no genres listed)</td>\n",
       "      <td>NaN</td>\n",
       "    </tr>\n",
       "    <tr>\n",
       "      <th>9611</th>\n",
       "      <td>176601</td>\n",
       "      <td>Black Mirror</td>\n",
       "      <td>(no genres listed)</td>\n",
       "      <td>NaN</td>\n",
       "    </tr>\n",
       "  </tbody>\n",
       "</table>\n",
       "</div>"
      ],
      "text/plain": [
       "      movieId                                              title  \\\n",
       "6059    40697                                          Babylon 5   \n",
       "9031   140956                                   Ready Player One   \n",
       "9091   143410                                         Hyena Road   \n",
       "9138   147250  The Adventures of Sherlock Holmes and Doctor W...   \n",
       "9179   149334                                  Nocturnal Animals   \n",
       "9259   156605                                           Paterson   \n",
       "9367   162414                                          Moonlight   \n",
       "9448   167570                                             The OA   \n",
       "9514   171495                                             Cosmos   \n",
       "9515   171631                            Maria Bamford: Old Baby   \n",
       "9525   171891                                  Generation Iron 2   \n",
       "9611   176601                                       Black Mirror   \n",
       "\n",
       "                      genres year  \n",
       "6059                  Sci-Fi  NaN  \n",
       "9031  Action|Sci-Fi|Thriller  NaN  \n",
       "9091      (no genres listed)  NaN  \n",
       "9138      (no genres listed)  NaN  \n",
       "9179          Drama|Thriller  NaN  \n",
       "9259      (no genres listed)  NaN  \n",
       "9367                   Drama  NaN  \n",
       "9448      (no genres listed)  NaN  \n",
       "9514      (no genres listed)  NaN  \n",
       "9515      (no genres listed)  NaN  \n",
       "9525      (no genres listed)  NaN  \n",
       "9611      (no genres listed)  NaN  "
      ]
     },
     "execution_count": 20,
     "metadata": {},
     "output_type": "execute_result"
    }
   ],
   "source": [
    "# movies with no year information\n",
    "movies_df[pd.isna(movies_df['year'])]"
   ]
  },
  {
   "cell_type": "code",
   "execution_count": 21,
   "metadata": {},
   "outputs": [],
   "source": [
    "# As many of these don't have any genres as well, we will drop these rows\n",
    "movies_df = movies_df.dropna(subset=['year'],how='any')"
   ]
  },
  {
   "cell_type": "code",
   "execution_count": 22,
   "metadata": {},
   "outputs": [],
   "source": [
    "movies_df['year'] = movies_df['year'].astype(int)"
   ]
  },
  {
   "cell_type": "code",
   "execution_count": 23,
   "metadata": {},
   "outputs": [
    {
     "data": {
      "text/plain": [
       "count    9730.000000\n",
       "mean     1994.614902\n",
       "std        18.534692\n",
       "min      1902.000000\n",
       "25%      1988.000000\n",
       "50%      1999.000000\n",
       "75%      2008.000000\n",
       "max      2018.000000\n",
       "Name: year, dtype: float64"
      ]
     },
     "execution_count": 23,
     "metadata": {},
     "output_type": "execute_result"
    }
   ],
   "source": [
    "movies_df['year'].describe()"
   ]
  },
  {
   "cell_type": "code",
   "execution_count": 24,
   "metadata": {},
   "outputs": [
    {
     "data": {
      "text/plain": [
       "2002    311\n",
       "2006    295\n",
       "2001    294\n",
       "2007    285\n",
       "2000    283\n",
       "       ... \n",
       "1917      1\n",
       "1902      1\n",
       "1903      1\n",
       "1919      1\n",
       "1908      1\n",
       "Name: year, Length: 106, dtype: int64"
      ]
     },
     "execution_count": 24,
     "metadata": {},
     "output_type": "execute_result"
    }
   ],
   "source": [
    "movies_df['year'].value_counts()"
   ]
  },
  {
   "cell_type": "code",
   "execution_count": 25,
   "metadata": {},
   "outputs": [
    {
     "data": {
      "image/png": "[encoded data removed]",
      "text/plain": [
       "<Figure size 432x288 with 1 Axes>"
      ]
     },
     "metadata": {
      "needs_background": "light"
     },
     "output_type": "display_data"
    }
   ],
   "source": [
    "sns.countplot(movies_df['year']);"
   ]
  },
  {
   "cell_type": "markdown",
   "metadata": {},
   "source": [
    "> In this dataset, we have movies starting as early as 1902 and the latest movie is from 2018. The year with the maximum number of movies in this dataset is 2002 with 311 movies.\n",
    "\n",
    "> Now, let's look for any duplicate values."
   ]
  },
  {
   "cell_type": "code",
   "execution_count": 26,
   "metadata": {},
   "outputs": [
    {
     "name": "stdout",
     "output_type": "stream",
     "text": [
      "Is there a duplicate value in a column movieId? Ans: False\n",
      "Is there a duplicate value in a column title? Ans: True\n"
     ]
    },
    {
     "data": {
      "text/html": [
       "<div>\n",
       "<style scoped>\n",
       "    .dataframe tbody tr th:only-of-type {\n",
       "        vertical-align: middle;\n",
       "    }\n",
       "\n",
       "    .dataframe tbody tr th {\n",
       "        vertical-align: top;\n",
       "    }\n",
       "\n",
       "    .dataframe thead th {\n",
       "        text-align: right;\n",
       "    }\n",
       "</style>\n",
       "<table border=\"1\" class=\"dataframe\">\n",
       "  <thead>\n",
       "    <tr style=\"text-align: right;\">\n",
       "      <th></th>\n",
       "      <th>movieId</th>\n",
       "      <th>title</th>\n",
       "      <th>genres</th>\n",
       "      <th>year</th>\n",
       "    </tr>\n",
       "  </thead>\n",
       "  <tbody>\n",
       "    <tr>\n",
       "      <th>650</th>\n",
       "      <td>838</td>\n",
       "      <td>Emma (1996)</td>\n",
       "      <td>Comedy|Drama|Romance</td>\n",
       "      <td>1996</td>\n",
       "    </tr>\n",
       "    <tr>\n",
       "      <th>2141</th>\n",
       "      <td>2851</td>\n",
       "      <td>Saturn 3 (1980)</td>\n",
       "      <td>Adventure|Sci-Fi|Thriller</td>\n",
       "      <td>1980</td>\n",
       "    </tr>\n",
       "    <tr>\n",
       "      <th>4169</th>\n",
       "      <td>6003</td>\n",
       "      <td>Confessions of a Dangerous Mind (2002)</td>\n",
       "      <td>Comedy|Crime|Drama|Thriller</td>\n",
       "      <td>2002</td>\n",
       "    </tr>\n",
       "    <tr>\n",
       "      <th>5601</th>\n",
       "      <td>26958</td>\n",
       "      <td>Emma (1996)</td>\n",
       "      <td>Romance</td>\n",
       "      <td>1996</td>\n",
       "    </tr>\n",
       "    <tr>\n",
       "      <th>5854</th>\n",
       "      <td>32600</td>\n",
       "      <td>Eros (2004)</td>\n",
       "      <td>Drama</td>\n",
       "      <td>2004</td>\n",
       "    </tr>\n",
       "    <tr>\n",
       "      <th>5931</th>\n",
       "      <td>34048</td>\n",
       "      <td>War of the Worlds (2005)</td>\n",
       "      <td>Action|Adventure|Sci-Fi|Thriller</td>\n",
       "      <td>2005</td>\n",
       "    </tr>\n",
       "    <tr>\n",
       "      <th>6932</th>\n",
       "      <td>64997</td>\n",
       "      <td>War of the Worlds (2005)</td>\n",
       "      <td>Action|Sci-Fi</td>\n",
       "      <td>2005</td>\n",
       "    </tr>\n",
       "    <tr>\n",
       "      <th>9106</th>\n",
       "      <td>144606</td>\n",
       "      <td>Confessions of a Dangerous Mind (2002)</td>\n",
       "      <td>Comedy|Crime|Drama|Romance|Thriller</td>\n",
       "      <td>2002</td>\n",
       "    </tr>\n",
       "    <tr>\n",
       "      <th>9135</th>\n",
       "      <td>147002</td>\n",
       "      <td>Eros (2004)</td>\n",
       "      <td>Drama|Romance</td>\n",
       "      <td>2004</td>\n",
       "    </tr>\n",
       "    <tr>\n",
       "      <th>9468</th>\n",
       "      <td>168358</td>\n",
       "      <td>Saturn 3 (1980)</td>\n",
       "      <td>Sci-Fi|Thriller</td>\n",
       "      <td>1980</td>\n",
       "    </tr>\n",
       "  </tbody>\n",
       "</table>\n",
       "</div>"
      ],
      "text/plain": [
       "      movieId                                   title  \\\n",
       "650       838                             Emma (1996)   \n",
       "2141     2851                         Saturn 3 (1980)   \n",
       "4169     6003  Confessions of a Dangerous Mind (2002)   \n",
       "5601    26958                             Emma (1996)   \n",
       "5854    32600                             Eros (2004)   \n",
       "5931    34048                War of the Worlds (2005)   \n",
       "6932    64997                War of the Worlds (2005)   \n",
       "9106   144606  Confessions of a Dangerous Mind (2002)   \n",
       "9135   147002                             Eros (2004)   \n",
       "9468   168358                         Saturn 3 (1980)   \n",
       "\n",
       "                                   genres  year  \n",
       "650                  Comedy|Drama|Romance  1996  \n",
       "2141            Adventure|Sci-Fi|Thriller  1980  \n",
       "4169          Comedy|Crime|Drama|Thriller  2002  \n",
       "5601                              Romance  1996  \n",
       "5854                                Drama  2004  \n",
       "5931     Action|Adventure|Sci-Fi|Thriller  2005  \n",
       "6932                        Action|Sci-Fi  2005  \n",
       "9106  Comedy|Crime|Drama|Romance|Thriller  2002  \n",
       "9135                        Drama|Romance  2004  \n",
       "9468                      Sci-Fi|Thriller  1980  "
      ]
     },
     "execution_count": 26,
     "metadata": {},
     "output_type": "execute_result"
    }
   ],
   "source": [
    "# Validation check\n",
    "print('Is there a duplicate value in a column movieId? Ans:',not movies_df[\"movieId\"].is_unique)\n",
    "print('Is there a duplicate value in a column title? Ans:',not movies_df[\"title\"].is_unique)\n",
    "\n",
    "movies_df[movies_df.duplicated([\"title\"], keep=False)]"
   ]
  },
  {
   "cell_type": "markdown",
   "metadata": {},
   "source": [
    "> There are 5 movies which are duplicated in our dataset.  They have the same title but different movieId. The problem is that the same movieId is then used in other tables as well. Let's replace the movieIds in each table."
   ]
  },
  {
   "cell_type": "code",
   "execution_count": 28,
   "metadata": {},
   "outputs": [],
   "source": [
    "movie_id_change = {838:26958, 2851:168358, 6003:144606,32600:147002,34048:64997}\n",
    "movies_df['movieId'].replace(movie_id_change,inplace=True)\n",
    "movies_df = movies_df.drop_duplicates(subset=[\"movieId\",\"title\"])\n",
    "\n",
    "ratings_df['movieId'].replace(movie_id_change,inplace=True)\n",
    "tags_df['movieId'].replace(movie_id_change,inplace=True)\n",
    "links_df['movieId'].replace(movie_id_change,inplace=True)"
   ]
  },
  {
   "cell_type": "code",
   "execution_count": 29,
   "metadata": {},
   "outputs": [
    {
     "name": "stdout",
     "output_type": "stream",
     "text": [
      "Is there a duplicate value in a column movieId? Ans: False\n",
      "Is there a duplicate value in a column title? Ans: False\n"
     ]
    }
   ],
   "source": [
    "# Validation check\n",
    "print('Is there a duplicate value in a column movieId? Ans:',not movies_df[\"movieId\"].is_unique)\n",
    "print('Is there a duplicate value in a column title? Ans:',not movies_df[\"title\"].is_unique)"
   ]
  },
  {
   "cell_type": "markdown",
   "metadata": {},
   "source": [
    "> Now let's extract individual genres from the genres column.But, first we need to replace a value in this column. Null value in genres column is given as (no genres listed). "
   ]
  },
  {
   "cell_type": "code",
   "execution_count": 33,
   "metadata": {},
   "outputs": [],
   "source": [
    "import numpy as np"
   ]
  },
  {
   "cell_type": "code",
   "execution_count": 34,
   "metadata": {},
   "outputs": [
    {
     "name": "stdout",
     "output_type": "stream",
     "text": [
      "Number of missing values in genres column: 26\n"
     ]
    }
   ],
   "source": [
    "movies_df['genres'] = movies_df['genres'].replace('(no genres listed)', np.nan)\n",
    "print('Number of missing values in genres column:',movies_df['genres'].isna().sum())\n",
    "\n",
    "# dropping rows with missing genres\n",
    "movies_df = movies_df.dropna(subset=['genres'],how='any')\n",
    "movies_df = movies_df.reset_index(drop=True)"
   ]
  },
  {
   "cell_type": "markdown",
   "metadata": {},
   "source": [
    "> Now, I will use One-Hot Encoding and create columns for each genre"
   ]
  },
  {
   "cell_type": "code",
   "execution_count": 35,
   "metadata": {},
   "outputs": [
    {
     "data": {
      "text/html": [
       "<div>\n",
       "<style scoped>\n",
       "    .dataframe tbody tr th:only-of-type {\n",
       "        vertical-align: middle;\n",
       "    }\n",
       "\n",
       "    .dataframe tbody tr th {\n",
       "        vertical-align: top;\n",
       "    }\n",
       "\n",
       "    .dataframe thead th {\n",
       "        text-align: right;\n",
       "    }\n",
       "</style>\n",
       "<table border=\"1\" class=\"dataframe\">\n",
       "  <thead>\n",
       "    <tr style=\"text-align: right;\">\n",
       "      <th></th>\n",
       "      <th>movieId</th>\n",
       "      <th>title</th>\n",
       "      <th>year</th>\n",
       "      <th>Adventure</th>\n",
       "      <th>Animation</th>\n",
       "      <th>Children</th>\n",
       "      <th>Comedy</th>\n",
       "      <th>Fantasy</th>\n",
       "      <th>Romance</th>\n",
       "      <th>Drama</th>\n",
       "      <th>...</th>\n",
       "      <th>Thriller</th>\n",
       "      <th>Horror</th>\n",
       "      <th>Mystery</th>\n",
       "      <th>Sci-Fi</th>\n",
       "      <th>War</th>\n",
       "      <th>Musical</th>\n",
       "      <th>Documentary</th>\n",
       "      <th>IMAX</th>\n",
       "      <th>Western</th>\n",
       "      <th>Film-Noir</th>\n",
       "    </tr>\n",
       "  </thead>\n",
       "  <tbody>\n",
       "    <tr>\n",
       "      <th>0</th>\n",
       "      <td>1</td>\n",
       "      <td>Toy Story (1995)</td>\n",
       "      <td>1995</td>\n",
       "      <td>1</td>\n",
       "      <td>1</td>\n",
       "      <td>1</td>\n",
       "      <td>1</td>\n",
       "      <td>1</td>\n",
       "      <td>0</td>\n",
       "      <td>0</td>\n",
       "      <td>...</td>\n",
       "      <td>0</td>\n",
       "      <td>0</td>\n",
       "      <td>0</td>\n",
       "      <td>0</td>\n",
       "      <td>0</td>\n",
       "      <td>0</td>\n",
       "      <td>0</td>\n",
       "      <td>0</td>\n",
       "      <td>0</td>\n",
       "      <td>0</td>\n",
       "    </tr>\n",
       "    <tr>\n",
       "      <th>1</th>\n",
       "      <td>2</td>\n",
       "      <td>Jumanji (1995)</td>\n",
       "      <td>1995</td>\n",
       "      <td>1</td>\n",
       "      <td>0</td>\n",
       "      <td>1</td>\n",
       "      <td>0</td>\n",
       "      <td>1</td>\n",
       "      <td>0</td>\n",
       "      <td>0</td>\n",
       "      <td>...</td>\n",
       "      <td>0</td>\n",
       "      <td>0</td>\n",
       "      <td>0</td>\n",
       "      <td>0</td>\n",
       "      <td>0</td>\n",
       "      <td>0</td>\n",
       "      <td>0</td>\n",
       "      <td>0</td>\n",
       "      <td>0</td>\n",
       "      <td>0</td>\n",
       "    </tr>\n",
       "    <tr>\n",
       "      <th>2</th>\n",
       "      <td>3</td>\n",
       "      <td>Grumpier Old Men (1995)</td>\n",
       "      <td>1995</td>\n",
       "      <td>0</td>\n",
       "      <td>0</td>\n",
       "      <td>0</td>\n",
       "      <td>1</td>\n",
       "      <td>0</td>\n",
       "      <td>1</td>\n",
       "      <td>0</td>\n",
       "      <td>...</td>\n",
       "      <td>0</td>\n",
       "      <td>0</td>\n",
       "      <td>0</td>\n",
       "      <td>0</td>\n",
       "      <td>0</td>\n",
       "      <td>0</td>\n",
       "      <td>0</td>\n",
       "      <td>0</td>\n",
       "      <td>0</td>\n",
       "      <td>0</td>\n",
       "    </tr>\n",
       "    <tr>\n",
       "      <th>3</th>\n",
       "      <td>4</td>\n",
       "      <td>Waiting to Exhale (1995)</td>\n",
       "      <td>1995</td>\n",
       "      <td>0</td>\n",
       "      <td>0</td>\n",
       "      <td>0</td>\n",
       "      <td>1</td>\n",
       "      <td>0</td>\n",
       "      <td>1</td>\n",
       "      <td>1</td>\n",
       "      <td>...</td>\n",
       "      <td>0</td>\n",
       "      <td>0</td>\n",
       "      <td>0</td>\n",
       "      <td>0</td>\n",
       "      <td>0</td>\n",
       "      <td>0</td>\n",
       "      <td>0</td>\n",
       "      <td>0</td>\n",
       "      <td>0</td>\n",
       "      <td>0</td>\n",
       "    </tr>\n",
       "    <tr>\n",
       "      <th>4</th>\n",
       "      <td>5</td>\n",
       "      <td>Father of the Bride Part II (1995)</td>\n",
       "      <td>1995</td>\n",
       "      <td>0</td>\n",
       "      <td>0</td>\n",
       "      <td>0</td>\n",
       "      <td>1</td>\n",
       "      <td>0</td>\n",
       "      <td>0</td>\n",
       "      <td>0</td>\n",
       "      <td>...</td>\n",
       "      <td>0</td>\n",
       "      <td>0</td>\n",
       "      <td>0</td>\n",
       "      <td>0</td>\n",
       "      <td>0</td>\n",
       "      <td>0</td>\n",
       "      <td>0</td>\n",
       "      <td>0</td>\n",
       "      <td>0</td>\n",
       "      <td>0</td>\n",
       "    </tr>\n",
       "    <tr>\n",
       "      <th>...</th>\n",
       "      <td>...</td>\n",
       "      <td>...</td>\n",
       "      <td>...</td>\n",
       "      <td>...</td>\n",
       "      <td>...</td>\n",
       "      <td>...</td>\n",
       "      <td>...</td>\n",
       "      <td>...</td>\n",
       "      <td>...</td>\n",
       "      <td>...</td>\n",
       "      <td>...</td>\n",
       "      <td>...</td>\n",
       "      <td>...</td>\n",
       "      <td>...</td>\n",
       "      <td>...</td>\n",
       "      <td>...</td>\n",
       "      <td>...</td>\n",
       "      <td>...</td>\n",
       "      <td>...</td>\n",
       "      <td>...</td>\n",
       "      <td>...</td>\n",
       "    </tr>\n",
       "    <tr>\n",
       "      <th>9694</th>\n",
       "      <td>193581</td>\n",
       "      <td>Black Butler: Book of the Atlantic (2017)</td>\n",
       "      <td>2017</td>\n",
       "      <td>0</td>\n",
       "      <td>1</td>\n",
       "      <td>0</td>\n",
       "      <td>1</td>\n",
       "      <td>1</td>\n",
       "      <td>0</td>\n",
       "      <td>0</td>\n",
       "      <td>...</td>\n",
       "      <td>0</td>\n",
       "      <td>0</td>\n",
       "      <td>0</td>\n",
       "      <td>0</td>\n",
       "      <td>0</td>\n",
       "      <td>0</td>\n",
       "      <td>0</td>\n",
       "      <td>0</td>\n",
       "      <td>0</td>\n",
       "      <td>0</td>\n",
       "    </tr>\n",
       "    <tr>\n",
       "      <th>9695</th>\n",
       "      <td>193583</td>\n",
       "      <td>No Game No Life: Zero (2017)</td>\n",
       "      <td>2017</td>\n",
       "      <td>0</td>\n",
       "      <td>1</td>\n",
       "      <td>0</td>\n",
       "      <td>1</td>\n",
       "      <td>1</td>\n",
       "      <td>0</td>\n",
       "      <td>0</td>\n",
       "      <td>...</td>\n",
       "      <td>0</td>\n",
       "      <td>0</td>\n",
       "      <td>0</td>\n",
       "      <td>0</td>\n",
       "      <td>0</td>\n",
       "      <td>0</td>\n",
       "      <td>0</td>\n",
       "      <td>0</td>\n",
       "      <td>0</td>\n",
       "      <td>0</td>\n",
       "    </tr>\n",
       "    <tr>\n",
       "      <th>9696</th>\n",
       "      <td>193585</td>\n",
       "      <td>Flint (2017)</td>\n",
       "      <td>2017</td>\n",
       "      <td>0</td>\n",
       "      <td>0</td>\n",
       "      <td>0</td>\n",
       "      <td>0</td>\n",
       "      <td>0</td>\n",
       "      <td>0</td>\n",
       "      <td>1</td>\n",
       "      <td>...</td>\n",
       "      <td>0</td>\n",
       "      <td>0</td>\n",
       "      <td>0</td>\n",
       "      <td>0</td>\n",
       "      <td>0</td>\n",
       "      <td>0</td>\n",
       "      <td>0</td>\n",
       "      <td>0</td>\n",
       "      <td>0</td>\n",
       "      <td>0</td>\n",
       "    </tr>\n",
       "    <tr>\n",
       "      <th>9697</th>\n",
       "      <td>193587</td>\n",
       "      <td>Bungo Stray Dogs: Dead Apple (2018)</td>\n",
       "      <td>2018</td>\n",
       "      <td>0</td>\n",
       "      <td>1</td>\n",
       "      <td>0</td>\n",
       "      <td>0</td>\n",
       "      <td>0</td>\n",
       "      <td>0</td>\n",
       "      <td>0</td>\n",
       "      <td>...</td>\n",
       "      <td>0</td>\n",
       "      <td>0</td>\n",
       "      <td>0</td>\n",
       "      <td>0</td>\n",
       "      <td>0</td>\n",
       "      <td>0</td>\n",
       "      <td>0</td>\n",
       "      <td>0</td>\n",
       "      <td>0</td>\n",
       "      <td>0</td>\n",
       "    </tr>\n",
       "    <tr>\n",
       "      <th>9698</th>\n",
       "      <td>193609</td>\n",
       "      <td>Andrew Dice Clay: Dice Rules (1991)</td>\n",
       "      <td>1991</td>\n",
       "      <td>0</td>\n",
       "      <td>0</td>\n",
       "      <td>0</td>\n",
       "      <td>1</td>\n",
       "      <td>0</td>\n",
       "      <td>0</td>\n",
       "      <td>0</td>\n",
       "      <td>...</td>\n",
       "      <td>0</td>\n",
       "      <td>0</td>\n",
       "      <td>0</td>\n",
       "      <td>0</td>\n",
       "      <td>0</td>\n",
       "      <td>0</td>\n",
       "      <td>0</td>\n",
       "      <td>0</td>\n",
       "      <td>0</td>\n",
       "      <td>0</td>\n",
       "    </tr>\n",
       "  </tbody>\n",
       "</table>\n",
       "<p>9699 rows × 22 columns</p>\n",
       "</div>"
      ],
      "text/plain": [
       "      movieId                                      title  year  Adventure  \\\n",
       "0           1                           Toy Story (1995)  1995          1   \n",
       "1           2                             Jumanji (1995)  1995          1   \n",
       "2           3                    Grumpier Old Men (1995)  1995          0   \n",
       "3           4                   Waiting to Exhale (1995)  1995          0   \n",
       "4           5         Father of the Bride Part II (1995)  1995          0   \n",
       "...       ...                                        ...   ...        ...   \n",
       "9694   193581  Black Butler: Book of the Atlantic (2017)  2017          0   \n",
       "9695   193583               No Game No Life: Zero (2017)  2017          0   \n",
       "9696   193585                               Flint (2017)  2017          0   \n",
       "9697   193587        Bungo Stray Dogs: Dead Apple (2018)  2018          0   \n",
       "9698   193609        Andrew Dice Clay: Dice Rules (1991)  1991          0   \n",
       "\n",
       "      Animation  Children  Comedy  Fantasy  Romance  Drama  ...  Thriller  \\\n",
       "0             1         1       1        1        0      0  ...         0   \n",
       "1             0         1       0        1        0      0  ...         0   \n",
       "2             0         0       1        0        1      0  ...         0   \n",
       "3             0         0       1        0        1      1  ...         0   \n",
       "4             0         0       1        0        0      0  ...         0   \n",
       "...         ...       ...     ...      ...      ...    ...  ...       ...   \n",
       "9694          1         0       1        1        0      0  ...         0   \n",
       "9695          1         0       1        1        0      0  ...         0   \n",
       "9696          0         0       0        0        0      1  ...         0   \n",
       "9697          1         0       0        0        0      0  ...         0   \n",
       "9698          0         0       1        0        0      0  ...         0   \n",
       "\n",
       "      Horror  Mystery  Sci-Fi  War  Musical  Documentary  IMAX  Western  \\\n",
       "0          0        0       0    0        0            0     0        0   \n",
       "1          0        0       0    0        0            0     0        0   \n",
       "2          0        0       0    0        0            0     0        0   \n",
       "3          0        0       0    0        0            0     0        0   \n",
       "4          0        0       0    0        0            0     0        0   \n",
       "...      ...      ...     ...  ...      ...          ...   ...      ...   \n",
       "9694       0        0       0    0        0            0     0        0   \n",
       "9695       0        0       0    0        0            0     0        0   \n",
       "9696       0        0       0    0        0            0     0        0   \n",
       "9697       0        0       0    0        0            0     0        0   \n",
       "9698       0        0       0    0        0            0     0        0   \n",
       "\n",
       "      Film-Noir  \n",
       "0             0  \n",
       "1             0  \n",
       "2             0  \n",
       "3             0  \n",
       "4             0  \n",
       "...         ...  \n",
       "9694          0  \n",
       "9695          0  \n",
       "9696          0  \n",
       "9697          0  \n",
       "9698          0  \n",
       "\n",
       "[9699 rows x 22 columns]"
      ]
     },
     "execution_count": 35,
     "metadata": {},
     "output_type": "execute_result"
    }
   ],
   "source": [
    "# Serepate the Genres Column and Encoding them with One-Hot Encoding\n",
    "genres = []\n",
    "for i in range(len(movies_df.genres)):\n",
    "    for x in movies_df.genres[i].split('|'):\n",
    "        if x not in genres:\n",
    "            genres.append(x)\n",
    "            \n",
    "len(genres)\n",
    "for x in genres:\n",
    "    movies_df[x] = 0\n",
    "for i in range(len(movies_df.genres)):\n",
    "    for x in movies_df.genres[i].split('|'):\n",
    "        movies_df[x][i]=1\n",
    "        \n",
    "#dropping the genres column as it's a no longer required\n",
    "movies_df.drop(columns='genres', inplace=True)\n",
    "movies_df.sort_index(inplace=True)\n",
    "movies_df"
   ]
  },
  {
   "cell_type": "code",
   "execution_count": 37,
   "metadata": {},
   "outputs": [
    {
     "name": "stdout",
     "output_type": "stream",
     "text": [
      "Animation             611\n",
      "Children              664\n",
      "Comedy               3755\n",
      "Fantasy               779\n",
      "Romance              1593\n",
      "Drama                4357\n",
      "Action               1826\n",
      "Crime                1198\n",
      "Thriller             1890\n",
      "Horror                978\n",
      "Mystery               573\n",
      "Sci-Fi                976\n",
      "War                   382\n",
      "Musical               334\n",
      "Documentary           440\n",
      "IMAX                  158\n",
      "Western               167\n",
      "Film-Noir              87\n"
     ]
    },
    {
     "data": {
      "image/png": "[encoded data removed]",
      "text/plain": [
       "<Figure size 432x288 with 1 Axes>"
      ]
     },
     "metadata": {
      "needs_background": "light"
     },
     "output_type": "display_data"
    }
   ],
   "source": [
    "# plotting genres popularity\n",
    "x = {}\n",
    "for i in movies_df.columns[4:23]:\n",
    "    x[i] = movies_df[i].sum()\n",
    "    print(f\"{i:<15}{x[i]:>10}\")\n",
    "    \n",
    "plt.bar(height = x.values(), x=x.keys())\n",
    "plt.xticks(rotation=90, ha='right')\n",
    "plt.ylabel('Number of Popularity')\n",
    "plt.show()"
   ]
  },
  {
   "cell_type": "markdown",
   "metadata": {},
   "source": [
    "> Drama is the most popular genre with 4357 movies, followed by Comedy with 3755 movies.\n",
    "\n",
    "> We will now merge the ratings and movie dataframe to get the average rating and num of ratings per movie."
   ]
  },
  {
   "cell_type": "code",
   "execution_count": 40,
   "metadata": {},
   "outputs": [
    {
     "data": {
      "text/html": [
       "<div>\n",
       "<style scoped>\n",
       "    .dataframe tbody tr th:only-of-type {\n",
       "        vertical-align: middle;\n",
       "    }\n",
       "\n",
       "    .dataframe tbody tr th {\n",
       "        vertical-align: top;\n",
       "    }\n",
       "\n",
       "    .dataframe thead th {\n",
       "        text-align: right;\n",
       "    }\n",
       "</style>\n",
       "<table border=\"1\" class=\"dataframe\">\n",
       "  <thead>\n",
       "    <tr style=\"text-align: right;\">\n",
       "      <th></th>\n",
       "      <th>title</th>\n",
       "      <th>mean rating</th>\n",
       "      <th>num rating</th>\n",
       "    </tr>\n",
       "  </thead>\n",
       "  <tbody>\n",
       "    <tr>\n",
       "      <th>0</th>\n",
       "      <td>Toy Story (1995)</td>\n",
       "      <td>3.920930</td>\n",
       "      <td>215.0</td>\n",
       "    </tr>\n",
       "    <tr>\n",
       "      <th>1</th>\n",
       "      <td>Jumanji (1995)</td>\n",
       "      <td>3.431818</td>\n",
       "      <td>110.0</td>\n",
       "    </tr>\n",
       "    <tr>\n",
       "      <th>2</th>\n",
       "      <td>Grumpier Old Men (1995)</td>\n",
       "      <td>3.259615</td>\n",
       "      <td>52.0</td>\n",
       "    </tr>\n",
       "    <tr>\n",
       "      <th>3</th>\n",
       "      <td>Waiting to Exhale (1995)</td>\n",
       "      <td>2.357143</td>\n",
       "      <td>7.0</td>\n",
       "    </tr>\n",
       "    <tr>\n",
       "      <th>4</th>\n",
       "      <td>Father of the Bride Part II (1995)</td>\n",
       "      <td>3.071429</td>\n",
       "      <td>49.0</td>\n",
       "    </tr>\n",
       "    <tr>\n",
       "      <th>...</th>\n",
       "      <td>...</td>\n",
       "      <td>...</td>\n",
       "      <td>...</td>\n",
       "    </tr>\n",
       "    <tr>\n",
       "      <th>9694</th>\n",
       "      <td>Black Butler: Book of the Atlantic (2017)</td>\n",
       "      <td>4.000000</td>\n",
       "      <td>1.0</td>\n",
       "    </tr>\n",
       "    <tr>\n",
       "      <th>9695</th>\n",
       "      <td>No Game No Life: Zero (2017)</td>\n",
       "      <td>3.500000</td>\n",
       "      <td>1.0</td>\n",
       "    </tr>\n",
       "    <tr>\n",
       "      <th>9696</th>\n",
       "      <td>Flint (2017)</td>\n",
       "      <td>3.500000</td>\n",
       "      <td>1.0</td>\n",
       "    </tr>\n",
       "    <tr>\n",
       "      <th>9697</th>\n",
       "      <td>Bungo Stray Dogs: Dead Apple (2018)</td>\n",
       "      <td>3.500000</td>\n",
       "      <td>1.0</td>\n",
       "    </tr>\n",
       "    <tr>\n",
       "      <th>9698</th>\n",
       "      <td>Andrew Dice Clay: Dice Rules (1991)</td>\n",
       "      <td>4.000000</td>\n",
       "      <td>1.0</td>\n",
       "    </tr>\n",
       "  </tbody>\n",
       "</table>\n",
       "<p>9699 rows × 3 columns</p>\n",
       "</div>"
      ],
      "text/plain": [
       "                                          title  mean rating  num rating\n",
       "0                              Toy Story (1995)     3.920930       215.0\n",
       "1                                Jumanji (1995)     3.431818       110.0\n",
       "2                       Grumpier Old Men (1995)     3.259615        52.0\n",
       "3                      Waiting to Exhale (1995)     2.357143         7.0\n",
       "4            Father of the Bride Part II (1995)     3.071429        49.0\n",
       "...                                         ...          ...         ...\n",
       "9694  Black Butler: Book of the Atlantic (2017)     4.000000         1.0\n",
       "9695               No Game No Life: Zero (2017)     3.500000         1.0\n",
       "9696                               Flint (2017)     3.500000         1.0\n",
       "9697        Bungo Stray Dogs: Dead Apple (2018)     3.500000         1.0\n",
       "9698        Andrew Dice Clay: Dice Rules (1991)     4.000000         1.0\n",
       "\n",
       "[9699 rows x 3 columns]"
      ]
     },
     "execution_count": 40,
     "metadata": {},
     "output_type": "execute_result"
    }
   ],
   "source": [
    "# movies with no ratings receive 0 as their average rating\n",
    "mean_rating = ratings_df.groupby('movieId').rating.mean().rename('mean rating')\n",
    "num_rating = ratings_df.groupby('movieId').userId.count().rename('num rating')\n",
    "\n",
    "movies_df = pd.merge(movies_df, mean_rating, how='left', on='movieId')\n",
    "movies_df = pd.merge(movies_df, num_rating, how='left', on='movieId')\n",
    "\n",
    "movies_df['mean rating'].fillna(0, inplace=True)\n",
    "movies_df['num rating'].fillna(0, inplace=True)\n",
    "\n",
    "movies_df[['title', 'mean rating', 'num rating']]"
   ]
  },
  {
   "cell_type": "code",
   "execution_count": null,
   "metadata": {},
   "outputs": [],
   "source": []
  },
  {
   "cell_type": "markdown",
   "metadata": {},
   "source": [
    "## Naive Recomendation Engine"
   ]
  },
  {
   "cell_type": "markdown",
   "metadata": {},
   "source": [
    "This system, would use overall ratings and genres to recommend movies. This could work well in helping resolve the cold-start problem as well in the future.\n",
    "\n",
    "As the first initial model, I can recommend the top 10 most popular movies(movies with most number of ratings) in our database to a new user."
   ]
  },
  {
   "cell_type": "code",
   "execution_count": 41,
   "metadata": {},
   "outputs": [],
   "source": [
    "movie_ratings = movies_df[['title', 'mean rating', 'num rating', ]]"
   ]
  },
  {
   "cell_type": "code",
   "execution_count": 42,
   "metadata": {},
   "outputs": [
    {
     "data": {
      "text/html": [
       "<div>\n",
       "<style scoped>\n",
       "    .dataframe tbody tr th:only-of-type {\n",
       "        vertical-align: middle;\n",
       "    }\n",
       "\n",
       "    .dataframe tbody tr th {\n",
       "        vertical-align: top;\n",
       "    }\n",
       "\n",
       "    .dataframe thead th {\n",
       "        text-align: right;\n",
       "    }\n",
       "</style>\n",
       "<table border=\"1\" class=\"dataframe\">\n",
       "  <thead>\n",
       "    <tr style=\"text-align: right;\">\n",
       "      <th></th>\n",
       "      <th>title</th>\n",
       "      <th>mean rating</th>\n",
       "      <th>num rating</th>\n",
       "    </tr>\n",
       "  </thead>\n",
       "  <tbody>\n",
       "    <tr>\n",
       "      <th>314</th>\n",
       "      <td>Forrest Gump (1994)</td>\n",
       "      <td>4.164134</td>\n",
       "      <td>329.0</td>\n",
       "    </tr>\n",
       "    <tr>\n",
       "      <th>277</th>\n",
       "      <td>Shawshank Redemption, The (1994)</td>\n",
       "      <td>4.429022</td>\n",
       "      <td>317.0</td>\n",
       "    </tr>\n",
       "    <tr>\n",
       "      <th>257</th>\n",
       "      <td>Pulp Fiction (1994)</td>\n",
       "      <td>4.197068</td>\n",
       "      <td>307.0</td>\n",
       "    </tr>\n",
       "    <tr>\n",
       "      <th>510</th>\n",
       "      <td>Silence of the Lambs, The (1991)</td>\n",
       "      <td>4.161290</td>\n",
       "      <td>279.0</td>\n",
       "    </tr>\n",
       "    <tr>\n",
       "      <th>1939</th>\n",
       "      <td>Matrix, The (1999)</td>\n",
       "      <td>4.192446</td>\n",
       "      <td>278.0</td>\n",
       "    </tr>\n",
       "    <tr>\n",
       "      <th>224</th>\n",
       "      <td>Star Wars: Episode IV - A New Hope (1977)</td>\n",
       "      <td>4.231076</td>\n",
       "      <td>251.0</td>\n",
       "    </tr>\n",
       "    <tr>\n",
       "      <th>418</th>\n",
       "      <td>Jurassic Park (1993)</td>\n",
       "      <td>3.750000</td>\n",
       "      <td>238.0</td>\n",
       "    </tr>\n",
       "    <tr>\n",
       "      <th>97</th>\n",
       "      <td>Braveheart (1995)</td>\n",
       "      <td>4.031646</td>\n",
       "      <td>237.0</td>\n",
       "    </tr>\n",
       "    <tr>\n",
       "      <th>507</th>\n",
       "      <td>Terminator 2: Judgment Day (1991)</td>\n",
       "      <td>3.970982</td>\n",
       "      <td>224.0</td>\n",
       "    </tr>\n",
       "    <tr>\n",
       "      <th>461</th>\n",
       "      <td>Schindler's List (1993)</td>\n",
       "      <td>4.225000</td>\n",
       "      <td>220.0</td>\n",
       "    </tr>\n",
       "  </tbody>\n",
       "</table>\n",
       "</div>"
      ],
      "text/plain": [
       "                                          title  mean rating  num rating\n",
       "314                         Forrest Gump (1994)     4.164134       329.0\n",
       "277            Shawshank Redemption, The (1994)     4.429022       317.0\n",
       "257                         Pulp Fiction (1994)     4.197068       307.0\n",
       "510            Silence of the Lambs, The (1991)     4.161290       279.0\n",
       "1939                         Matrix, The (1999)     4.192446       278.0\n",
       "224   Star Wars: Episode IV - A New Hope (1977)     4.231076       251.0\n",
       "418                        Jurassic Park (1993)     3.750000       238.0\n",
       "97                            Braveheart (1995)     4.031646       237.0\n",
       "507           Terminator 2: Judgment Day (1991)     3.970982       224.0\n",
       "461                     Schindler's List (1993)     4.225000       220.0"
      ]
     },
     "execution_count": 42,
     "metadata": {},
     "output_type": "execute_result"
    }
   ],
   "source": [
    "movie_ratings.sort_values(by=['num rating'], ascending=False).head(10)"
   ]
  },
  {
   "cell_type": "markdown",
   "metadata": {},
   "source": [
    "> As expected, all listed movies are internationally acclaimed hollywood classics.\n",
    "\n",
    "> Now let's look at the top movies with the highest ratings in our database"
   ]
  },
  {
   "cell_type": "code",
   "execution_count": 44,
   "metadata": {},
   "outputs": [
    {
     "data": {
      "text/html": [
       "<div>\n",
       "<style scoped>\n",
       "    .dataframe tbody tr th:only-of-type {\n",
       "        vertical-align: middle;\n",
       "    }\n",
       "\n",
       "    .dataframe tbody tr th {\n",
       "        vertical-align: top;\n",
       "    }\n",
       "\n",
       "    .dataframe thead th {\n",
       "        text-align: right;\n",
       "    }\n",
       "</style>\n",
       "<table border=\"1\" class=\"dataframe\">\n",
       "  <thead>\n",
       "    <tr style=\"text-align: right;\">\n",
       "      <th></th>\n",
       "      <th>title</th>\n",
       "      <th>mean rating</th>\n",
       "      <th>num rating</th>\n",
       "    </tr>\n",
       "  </thead>\n",
       "  <tbody>\n",
       "    <tr>\n",
       "      <th>7598</th>\n",
       "      <td>Idiots and Angels (2008)</td>\n",
       "      <td>5.0</td>\n",
       "      <td>1.0</td>\n",
       "    </tr>\n",
       "    <tr>\n",
       "      <th>8670</th>\n",
       "      <td>Stuart Little 3: Call of the Wild (2005)</td>\n",
       "      <td>5.0</td>\n",
       "      <td>1.0</td>\n",
       "    </tr>\n",
       "    <tr>\n",
       "      <th>3110</th>\n",
       "      <td>Reform School Girls (1986)</td>\n",
       "      <td>5.0</td>\n",
       "      <td>1.0</td>\n",
       "    </tr>\n",
       "    <tr>\n",
       "      <th>8501</th>\n",
       "      <td>One I Love, The (2014)</td>\n",
       "      <td>5.0</td>\n",
       "      <td>1.0</td>\n",
       "    </tr>\n",
       "    <tr>\n",
       "      <th>8513</th>\n",
       "      <td>Laggies (2014)</td>\n",
       "      <td>5.0</td>\n",
       "      <td>1.0</td>\n",
       "    </tr>\n",
       "    <tr>\n",
       "      <th>3081</th>\n",
       "      <td>Monster Squad, The (1987)</td>\n",
       "      <td>5.0</td>\n",
       "      <td>1.0</td>\n",
       "    </tr>\n",
       "    <tr>\n",
       "      <th>8547</th>\n",
       "      <td>Crippled Avengers (Can que) (Return of the 5 D...</td>\n",
       "      <td>5.0</td>\n",
       "      <td>1.0</td>\n",
       "    </tr>\n",
       "    <tr>\n",
       "      <th>3067</th>\n",
       "      <td>Hollywood Shuffle (1987)</td>\n",
       "      <td>5.0</td>\n",
       "      <td>1.0</td>\n",
       "    </tr>\n",
       "    <tr>\n",
       "      <th>8587</th>\n",
       "      <td>Watermark (2014)</td>\n",
       "      <td>5.0</td>\n",
       "      <td>1.0</td>\n",
       "    </tr>\n",
       "    <tr>\n",
       "      <th>8606</th>\n",
       "      <td>Hellbenders (2012)</td>\n",
       "      <td>5.0</td>\n",
       "      <td>1.0</td>\n",
       "    </tr>\n",
       "  </tbody>\n",
       "</table>\n",
       "</div>"
      ],
      "text/plain": [
       "                                                  title  mean rating  \\\n",
       "7598                           Idiots and Angels (2008)          5.0   \n",
       "8670           Stuart Little 3: Call of the Wild (2005)          5.0   \n",
       "3110                         Reform School Girls (1986)          5.0   \n",
       "8501                             One I Love, The (2014)          5.0   \n",
       "8513                                     Laggies (2014)          5.0   \n",
       "3081                          Monster Squad, The (1987)          5.0   \n",
       "8547  Crippled Avengers (Can que) (Return of the 5 D...          5.0   \n",
       "3067                           Hollywood Shuffle (1987)          5.0   \n",
       "8587                                   Watermark (2014)          5.0   \n",
       "8606                                 Hellbenders (2012)          5.0   \n",
       "\n",
       "      num rating  \n",
       "7598         1.0  \n",
       "8670         1.0  \n",
       "3110         1.0  \n",
       "8501         1.0  \n",
       "8513         1.0  \n",
       "3081         1.0  \n",
       "8547         1.0  \n",
       "3067         1.0  \n",
       "8587         1.0  \n",
       "8606         1.0  "
      ]
     },
     "execution_count": 44,
     "metadata": {},
     "output_type": "execute_result"
    }
   ],
   "source": [
    "# top 10 movies by its mean ratings\n",
    "movie_ratings.sort_values(by=['mean rating'], ascending=False).head(10)"
   ]
  },
  {
   "cell_type": "markdown",
   "metadata": {},
   "source": [
    "> While these movies are rated quite high, they are not popular and only have 1 rating. This is not reliable information. I need to set a threshold of the minimum number of ratings a movie must have"
   ]
  },
  {
   "cell_type": "code",
   "execution_count": 46,
   "metadata": {},
   "outputs": [
    {
     "data": {
      "text/html": [
       "<div>\n",
       "<style scoped>\n",
       "    .dataframe tbody tr th:only-of-type {\n",
       "        vertical-align: middle;\n",
       "    }\n",
       "\n",
       "    .dataframe tbody tr th {\n",
       "        vertical-align: top;\n",
       "    }\n",
       "\n",
       "    .dataframe thead th {\n",
       "        text-align: right;\n",
       "    }\n",
       "</style>\n",
       "<table border=\"1\" class=\"dataframe\">\n",
       "  <thead>\n",
       "    <tr style=\"text-align: right;\">\n",
       "      <th></th>\n",
       "      <th>title</th>\n",
       "      <th>mean rating</th>\n",
       "      <th>num rating</th>\n",
       "    </tr>\n",
       "  </thead>\n",
       "  <tbody>\n",
       "    <tr>\n",
       "      <th>277</th>\n",
       "      <td>Shawshank Redemption, The (1994)</td>\n",
       "      <td>4.429022</td>\n",
       "      <td>317.0</td>\n",
       "    </tr>\n",
       "    <tr>\n",
       "      <th>2226</th>\n",
       "      <td>Fight Club (1999)</td>\n",
       "      <td>4.272936</td>\n",
       "      <td>218.0</td>\n",
       "    </tr>\n",
       "    <tr>\n",
       "      <th>46</th>\n",
       "      <td>Usual Suspects, The (1995)</td>\n",
       "      <td>4.237745</td>\n",
       "      <td>204.0</td>\n",
       "    </tr>\n",
       "    <tr>\n",
       "      <th>224</th>\n",
       "      <td>Star Wars: Episode IV - A New Hope (1977)</td>\n",
       "      <td>4.231076</td>\n",
       "      <td>251.0</td>\n",
       "    </tr>\n",
       "    <tr>\n",
       "      <th>461</th>\n",
       "      <td>Schindler's List (1993)</td>\n",
       "      <td>4.225000</td>\n",
       "      <td>220.0</td>\n",
       "    </tr>\n",
       "    <tr>\n",
       "      <th>898</th>\n",
       "      <td>Star Wars: Episode V - The Empire Strikes Back...</td>\n",
       "      <td>4.215640</td>\n",
       "      <td>211.0</td>\n",
       "    </tr>\n",
       "    <tr>\n",
       "      <th>257</th>\n",
       "      <td>Pulp Fiction (1994)</td>\n",
       "      <td>4.197068</td>\n",
       "      <td>307.0</td>\n",
       "    </tr>\n",
       "    <tr>\n",
       "      <th>1939</th>\n",
       "      <td>Matrix, The (1999)</td>\n",
       "      <td>4.192446</td>\n",
       "      <td>278.0</td>\n",
       "    </tr>\n",
       "    <tr>\n",
       "      <th>314</th>\n",
       "      <td>Forrest Gump (1994)</td>\n",
       "      <td>4.164134</td>\n",
       "      <td>329.0</td>\n",
       "    </tr>\n",
       "    <tr>\n",
       "      <th>510</th>\n",
       "      <td>Silence of the Lambs, The (1991)</td>\n",
       "      <td>4.161290</td>\n",
       "      <td>279.0</td>\n",
       "    </tr>\n",
       "  </tbody>\n",
       "</table>\n",
       "</div>"
      ],
      "text/plain": [
       "                                                  title  mean rating  \\\n",
       "277                    Shawshank Redemption, The (1994)     4.429022   \n",
       "2226                                  Fight Club (1999)     4.272936   \n",
       "46                           Usual Suspects, The (1995)     4.237745   \n",
       "224           Star Wars: Episode IV - A New Hope (1977)     4.231076   \n",
       "461                             Schindler's List (1993)     4.225000   \n",
       "898   Star Wars: Episode V - The Empire Strikes Back...     4.215640   \n",
       "257                                 Pulp Fiction (1994)     4.197068   \n",
       "1939                                 Matrix, The (1999)     4.192446   \n",
       "314                                 Forrest Gump (1994)     4.164134   \n",
       "510                    Silence of the Lambs, The (1991)     4.161290   \n",
       "\n",
       "      num rating  \n",
       "277        317.0  \n",
       "2226       218.0  \n",
       "46         204.0  \n",
       "224        251.0  \n",
       "461        220.0  \n",
       "898        211.0  \n",
       "257        307.0  \n",
       "1939       278.0  \n",
       "314        329.0  \n",
       "510        279.0  "
      ]
     },
     "execution_count": 46,
     "metadata": {},
     "output_type": "execute_result"
    }
   ],
   "source": [
    "#creating minimum number of ratings\n",
    "minimum_num_ratings = 200\n",
    "movie_ratings[movie_ratings['num rating']>minimum_num_ratings].sort_values(by=['mean rating'], ascending=False).head(10)"
   ]
  },
  {
   "cell_type": "markdown",
   "metadata": {},
   "source": [
    "> Now I see movies which are popular as well as loved by the users.\n",
    "\n",
    "> Also, let's see if there is correlation between movies with higher number of ratings and movies with high average rating."
   ]
  },
  {
   "cell_type": "code",
   "execution_count": 56,
   "metadata": {},
   "outputs": [
    {
     "data": {
      "image/png": "[encoded data removed]",
      "text/plain": [
       "<Figure size 432x288 with 1 Axes>"
      ]
     },
     "metadata": {
      "needs_background": "light"
     },
     "output_type": "display_data"
    }
   ],
   "source": [
    "sns.scatterplot(data=movies_df, x='mean rating', y ='num rating');"
   ]
  },
  {
   "cell_type": "markdown",
   "metadata": {},
   "source": [
    "> As expected, movies that are good also receive more ratings.\n",
    "\n",
    "> We can also use Genre information to further refine our recommendations.\n",
    "\n",
    "> Suppose, there is a user who wants recommendation for an action movie, then:"
   ]
  },
  {
   "cell_type": "code",
   "execution_count": 58,
   "metadata": {},
   "outputs": [
    {
     "data": {
      "text/html": [
       "<div>\n",
       "<style scoped>\n",
       "    .dataframe tbody tr th:only-of-type {\n",
       "        vertical-align: middle;\n",
       "    }\n",
       "\n",
       "    .dataframe tbody tr th {\n",
       "        vertical-align: top;\n",
       "    }\n",
       "\n",
       "    .dataframe thead th {\n",
       "        text-align: right;\n",
       "    }\n",
       "</style>\n",
       "<table border=\"1\" class=\"dataframe\">\n",
       "  <thead>\n",
       "    <tr style=\"text-align: right;\">\n",
       "      <th></th>\n",
       "      <th>title</th>\n",
       "      <th>mean rating</th>\n",
       "      <th>num rating</th>\n",
       "    </tr>\n",
       "  </thead>\n",
       "  <tbody>\n",
       "    <tr>\n",
       "      <th>8547</th>\n",
       "      <td>Crippled Avengers (Can que) (Return of the 5 D...</td>\n",
       "      <td>5.0</td>\n",
       "      <td>1.0</td>\n",
       "    </tr>\n",
       "    <tr>\n",
       "      <th>7488</th>\n",
       "      <td>Faster (2010)</td>\n",
       "      <td>5.0</td>\n",
       "      <td>1.0</td>\n",
       "    </tr>\n",
       "    <tr>\n",
       "      <th>8145</th>\n",
       "      <td>Justice League: Doom (2012)</td>\n",
       "      <td>5.0</td>\n",
       "      <td>1.0</td>\n",
       "    </tr>\n",
       "    <tr>\n",
       "      <th>8973</th>\n",
       "      <td>Tokyo Tribe (2014)</td>\n",
       "      <td>5.0</td>\n",
       "      <td>1.0</td>\n",
       "    </tr>\n",
       "    <tr>\n",
       "      <th>3759</th>\n",
       "      <td>Shogun Assassin (1980)</td>\n",
       "      <td>5.0</td>\n",
       "      <td>1.0</td>\n",
       "    </tr>\n",
       "    <tr>\n",
       "      <th>3908</th>\n",
       "      <td>The Big Bus (1976)</td>\n",
       "      <td>5.0</td>\n",
       "      <td>1.0</td>\n",
       "    </tr>\n",
       "    <tr>\n",
       "      <th>3110</th>\n",
       "      <td>Reform School Girls (1986)</td>\n",
       "      <td>5.0</td>\n",
       "      <td>1.0</td>\n",
       "    </tr>\n",
       "    <tr>\n",
       "      <th>7900</th>\n",
       "      <td>Superman/Batman: Public Enemies (2009)</td>\n",
       "      <td>5.0</td>\n",
       "      <td>1.0</td>\n",
       "    </tr>\n",
       "    <tr>\n",
       "      <th>1647</th>\n",
       "      <td>Knock Off (1998)</td>\n",
       "      <td>5.0</td>\n",
       "      <td>1.0</td>\n",
       "    </tr>\n",
       "    <tr>\n",
       "      <th>4045</th>\n",
       "      <td>Galaxy of Terror (Quest) (1981)</td>\n",
       "      <td>5.0</td>\n",
       "      <td>1.0</td>\n",
       "    </tr>\n",
       "  </tbody>\n",
       "</table>\n",
       "</div>"
      ],
      "text/plain": [
       "                                                  title  mean rating  \\\n",
       "8547  Crippled Avengers (Can que) (Return of the 5 D...          5.0   \n",
       "7488                                      Faster (2010)          5.0   \n",
       "8145                       Justice League: Doom (2012)           5.0   \n",
       "8973                                 Tokyo Tribe (2014)          5.0   \n",
       "3759                             Shogun Assassin (1980)          5.0   \n",
       "3908                                 The Big Bus (1976)          5.0   \n",
       "3110                         Reform School Girls (1986)          5.0   \n",
       "7900             Superman/Batman: Public Enemies (2009)          5.0   \n",
       "1647                                   Knock Off (1998)          5.0   \n",
       "4045                    Galaxy of Terror (Quest) (1981)          5.0   \n",
       "\n",
       "      num rating  \n",
       "8547         1.0  \n",
       "7488         1.0  \n",
       "8145         1.0  \n",
       "8973         1.0  \n",
       "3759         1.0  \n",
       "3908         1.0  \n",
       "3110         1.0  \n",
       "7900         1.0  \n",
       "1647         1.0  \n",
       "4045         1.0  "
      ]
     },
     "execution_count": 58,
     "metadata": {},
     "output_type": "execute_result"
    }
   ],
   "source": [
    "user_genre = 'Action'\n",
    "movie_ratings[movies_df[user_genre] == 1].sort_values(by=['mean rating'], ascending=False).head(10)"
   ]
  },
  {
   "cell_type": "markdown",
   "metadata": {},
   "source": [
    "> Again setting a threshold on the minimum number of ratings"
   ]
  },
  {
   "cell_type": "code",
   "execution_count": 59,
   "metadata": {},
   "outputs": [
    {
     "data": {
      "text/html": [
       "<div>\n",
       "<style scoped>\n",
       "    .dataframe tbody tr th:only-of-type {\n",
       "        vertical-align: middle;\n",
       "    }\n",
       "\n",
       "    .dataframe tbody tr th {\n",
       "        vertical-align: top;\n",
       "    }\n",
       "\n",
       "    .dataframe thead th {\n",
       "        text-align: right;\n",
       "    }\n",
       "</style>\n",
       "<table border=\"1\" class=\"dataframe\">\n",
       "  <thead>\n",
       "    <tr style=\"text-align: right;\">\n",
       "      <th></th>\n",
       "      <th>title</th>\n",
       "      <th>mean rating</th>\n",
       "      <th>num rating</th>\n",
       "    </tr>\n",
       "  </thead>\n",
       "  <tbody>\n",
       "    <tr>\n",
       "      <th>2226</th>\n",
       "      <td>Fight Club (1999)</td>\n",
       "      <td>4.272936</td>\n",
       "      <td>218.0</td>\n",
       "    </tr>\n",
       "    <tr>\n",
       "      <th>224</th>\n",
       "      <td>Star Wars: Episode IV - A New Hope (1977)</td>\n",
       "      <td>4.231076</td>\n",
       "      <td>251.0</td>\n",
       "    </tr>\n",
       "    <tr>\n",
       "      <th>898</th>\n",
       "      <td>Star Wars: Episode V - The Empire Strikes Back...</td>\n",
       "      <td>4.215640</td>\n",
       "      <td>211.0</td>\n",
       "    </tr>\n",
       "    <tr>\n",
       "      <th>1939</th>\n",
       "      <td>Matrix, The (1999)</td>\n",
       "      <td>4.192446</td>\n",
       "      <td>278.0</td>\n",
       "    </tr>\n",
       "    <tr>\n",
       "      <th>97</th>\n",
       "      <td>Braveheart (1995)</td>\n",
       "      <td>4.031646</td>\n",
       "      <td>237.0</td>\n",
       "    </tr>\n",
       "    <tr>\n",
       "      <th>507</th>\n",
       "      <td>Terminator 2: Judgment Day (1991)</td>\n",
       "      <td>3.970982</td>\n",
       "      <td>224.0</td>\n",
       "    </tr>\n",
       "    <tr>\n",
       "      <th>418</th>\n",
       "      <td>Jurassic Park (1993)</td>\n",
       "      <td>3.750000</td>\n",
       "      <td>238.0</td>\n",
       "    </tr>\n",
       "    <tr>\n",
       "      <th>615</th>\n",
       "      <td>Independence Day (a.k.a. ID4) (1996)</td>\n",
       "      <td>3.445545</td>\n",
       "      <td>202.0</td>\n",
       "    </tr>\n",
       "  </tbody>\n",
       "</table>\n",
       "</div>"
      ],
      "text/plain": [
       "                                                  title  mean rating  \\\n",
       "2226                                  Fight Club (1999)     4.272936   \n",
       "224           Star Wars: Episode IV - A New Hope (1977)     4.231076   \n",
       "898   Star Wars: Episode V - The Empire Strikes Back...     4.215640   \n",
       "1939                                 Matrix, The (1999)     4.192446   \n",
       "97                                    Braveheart (1995)     4.031646   \n",
       "507                   Terminator 2: Judgment Day (1991)     3.970982   \n",
       "418                                Jurassic Park (1993)     3.750000   \n",
       "615                Independence Day (a.k.a. ID4) (1996)     3.445545   \n",
       "\n",
       "      num rating  \n",
       "2226       218.0  \n",
       "224        251.0  \n",
       "898        211.0  \n",
       "1939       278.0  \n",
       "97         237.0  \n",
       "507        224.0  \n",
       "418        238.0  \n",
       "615        202.0  "
      ]
     },
     "execution_count": 59,
     "metadata": {},
     "output_type": "execute_result"
    }
   ],
   "source": [
    "user_genre = 'Action'\n",
    "minimum_num_ratings = 200\n",
    "movie_ratings[(movies_df[user_genre] == 1) & (movies_df['num rating']>minimum_num_ratings)].sort_values(by=['mean rating'], ascending=False).head(10)"
   ]
  },
  {
   "cell_type": "markdown",
   "metadata": {},
   "source": [
    "Let's combine all the techniques that we used above to build a basic recomendation engine:\n",
    "\n",
    "  1. If no information is available for the user, then recommend movies rated more than default threshold of 100 times with the highest ratings.\n",
    "  2. If user sets a threshold, then recommend movies rated more than threshold times with the highest ratings.\n",
    "  3. If genre is presented, then recommend movies from that genre rated more than threshold times with the highest ratings."
   ]
  },
  {
   "cell_type": "code",
   "execution_count": 60,
   "metadata": {},
   "outputs": [
    {
     "data": {
      "application/vnd.jupyter.widget-view+json": {
       "model_id": "4060260ec4804478adaa0f1cefd9b675",
       "version_major": 2,
       "version_minor": 0
      },
      "text/plain": [
       "interactive(children=(IntSlider(value=100, description='threshold', max=200, step=5), Dropdown(description='Ge…"
      ]
     },
     "metadata": {},
     "output_type": "display_data"
    }
   ],
   "source": [
    "def naive_recommendation(threshold,fav_genre):\n",
    "    \n",
    "    minimum_num_ratings = threshold\n",
    "    if fav_genre == 'All':\n",
    "        result = movie_ratings[(movies_df['num rating']>minimum_num_ratings)].sort_values(by=['mean rating'], ascending=False).head(10)    \n",
    "    else:\n",
    "        result = movie_ratings[(movies_df[fav_genre] == 1) & (movies_df['num rating']>minimum_num_ratings)].sort_values(by=['mean rating'], ascending=False).head(10)\n",
    "    \n",
    "    print('\\n\\nThese are the recommendations for the users with the following filters')\n",
    "    print('Minimum number of ratings:',threshold)\n",
    "    print(\"User's choice of genre:\",fav_genre)\n",
    "    display(result)\n",
    "\n",
    "    \n",
    "genres = ['All',\n",
    "          'Animation',\n",
    "          'Children',\n",
    "          'Comedy',\n",
    "          'Fantasy',\n",
    "          'Romance',\n",
    "          'Drama',\n",
    "          'Action',\n",
    "          'Crime',\n",
    "          'Thriller',\n",
    "          'Horror',\n",
    "          'Mystery',\n",
    "          'Sci-Fi',\n",
    "          'War',\n",
    "          'Musical',\n",
    "          'Documentary',\n",
    "          'IMAX',\n",
    "          'Western',\n",
    "          'Film-Noir'\n",
    "         ]\n",
    "w = interactive(naive_recommendation, threshold=widgets.IntSlider(min=0, max=200, value=100, step=5),\n",
    "                       fav_genre=widgets.Dropdown(options=genres, description=\"Genre\")\n",
    "               )\n",
    "display(w)"
   ]
  },
  {
   "cell_type": "markdown",
   "metadata": {},
   "source": [
    "## Colloborative Filtering"
   ]
  },
  {
   "cell_type": "markdown",
   "metadata": {},
   "source": [
    "### Item based Using Correlation"
   ]
  },
  {
   "cell_type": "markdown",
   "metadata": {},
   "source": [
    "I will now design a recomendation engine that uses the correlation between the ratings assined to different movies, in order to find the similarity between the movies.\n",
    "\n",
    "Let's create a matrix where each column is a movie name and esch row contains the rating assigned by a specific user to that movie."
   ]
  },
  {
   "cell_type": "code",
   "execution_count": 62,
   "metadata": {},
   "outputs": [
    {
     "data": {
      "text/html": [
       "<div>\n",
       "<style scoped>\n",
       "    .dataframe tbody tr th:only-of-type {\n",
       "        vertical-align: middle;\n",
       "    }\n",
       "\n",
       "    .dataframe tbody tr th {\n",
       "        vertical-align: top;\n",
       "    }\n",
       "\n",
       "    .dataframe thead th {\n",
       "        text-align: right;\n",
       "    }\n",
       "</style>\n",
       "<table border=\"1\" class=\"dataframe\">\n",
       "  <thead>\n",
       "    <tr style=\"text-align: right;\">\n",
       "      <th>title</th>\n",
       "      <th>'71 (2014)</th>\n",
       "      <th>'Hellboy': The Seeds of Creation (2004)</th>\n",
       "      <th>'Round Midnight (1986)</th>\n",
       "      <th>'Salem's Lot (2004)</th>\n",
       "      <th>'Til There Was You (1997)</th>\n",
       "      <th>'Tis the Season for Love (2015)</th>\n",
       "      <th>'burbs, The (1989)</th>\n",
       "      <th>'night Mother (1986)</th>\n",
       "      <th>(500) Days of Summer (2009)</th>\n",
       "      <th>*batteries not included (1987)</th>\n",
       "      <th>...</th>\n",
       "      <th>Zulu (2013)</th>\n",
       "      <th>[REC] (2007)</th>\n",
       "      <th>[REC]² (2009)</th>\n",
       "      <th>[REC]³ 3 Génesis (2012)</th>\n",
       "      <th>anohana: The Flower We Saw That Day - The Movie (2013)</th>\n",
       "      <th>eXistenZ (1999)</th>\n",
       "      <th>xXx (2002)</th>\n",
       "      <th>xXx: State of the Union (2005)</th>\n",
       "      <th>¡Three Amigos! (1986)</th>\n",
       "      <th>À nous la liberté (Freedom for Us) (1931)</th>\n",
       "    </tr>\n",
       "    <tr>\n",
       "      <th>userId</th>\n",
       "      <th></th>\n",
       "      <th></th>\n",
       "      <th></th>\n",
       "      <th></th>\n",
       "      <th></th>\n",
       "      <th></th>\n",
       "      <th></th>\n",
       "      <th></th>\n",
       "      <th></th>\n",
       "      <th></th>\n",
       "      <th></th>\n",
       "      <th></th>\n",
       "      <th></th>\n",
       "      <th></th>\n",
       "      <th></th>\n",
       "      <th></th>\n",
       "      <th></th>\n",
       "      <th></th>\n",
       "      <th></th>\n",
       "      <th></th>\n",
       "      <th></th>\n",
       "    </tr>\n",
       "  </thead>\n",
       "  <tbody>\n",
       "    <tr>\n",
       "      <th>1</th>\n",
       "      <td>NaN</td>\n",
       "      <td>NaN</td>\n",
       "      <td>NaN</td>\n",
       "      <td>NaN</td>\n",
       "      <td>NaN</td>\n",
       "      <td>NaN</td>\n",
       "      <td>NaN</td>\n",
       "      <td>NaN</td>\n",
       "      <td>NaN</td>\n",
       "      <td>NaN</td>\n",
       "      <td>...</td>\n",
       "      <td>NaN</td>\n",
       "      <td>NaN</td>\n",
       "      <td>NaN</td>\n",
       "      <td>NaN</td>\n",
       "      <td>NaN</td>\n",
       "      <td>NaN</td>\n",
       "      <td>NaN</td>\n",
       "      <td>NaN</td>\n",
       "      <td>4.0</td>\n",
       "      <td>NaN</td>\n",
       "    </tr>\n",
       "    <tr>\n",
       "      <th>2</th>\n",
       "      <td>NaN</td>\n",
       "      <td>NaN</td>\n",
       "      <td>NaN</td>\n",
       "      <td>NaN</td>\n",
       "      <td>NaN</td>\n",
       "      <td>NaN</td>\n",
       "      <td>NaN</td>\n",
       "      <td>NaN</td>\n",
       "      <td>NaN</td>\n",
       "      <td>NaN</td>\n",
       "      <td>...</td>\n",
       "      <td>NaN</td>\n",
       "      <td>NaN</td>\n",
       "      <td>NaN</td>\n",
       "      <td>NaN</td>\n",
       "      <td>NaN</td>\n",
       "      <td>NaN</td>\n",
       "      <td>NaN</td>\n",
       "      <td>NaN</td>\n",
       "      <td>NaN</td>\n",
       "      <td>NaN</td>\n",
       "    </tr>\n",
       "    <tr>\n",
       "      <th>3</th>\n",
       "      <td>NaN</td>\n",
       "      <td>NaN</td>\n",
       "      <td>NaN</td>\n",
       "      <td>NaN</td>\n",
       "      <td>NaN</td>\n",
       "      <td>NaN</td>\n",
       "      <td>NaN</td>\n",
       "      <td>NaN</td>\n",
       "      <td>NaN</td>\n",
       "      <td>NaN</td>\n",
       "      <td>...</td>\n",
       "      <td>NaN</td>\n",
       "      <td>NaN</td>\n",
       "      <td>NaN</td>\n",
       "      <td>NaN</td>\n",
       "      <td>NaN</td>\n",
       "      <td>NaN</td>\n",
       "      <td>NaN</td>\n",
       "      <td>NaN</td>\n",
       "      <td>NaN</td>\n",
       "      <td>NaN</td>\n",
       "    </tr>\n",
       "    <tr>\n",
       "      <th>4</th>\n",
       "      <td>NaN</td>\n",
       "      <td>NaN</td>\n",
       "      <td>NaN</td>\n",
       "      <td>NaN</td>\n",
       "      <td>NaN</td>\n",
       "      <td>NaN</td>\n",
       "      <td>NaN</td>\n",
       "      <td>NaN</td>\n",
       "      <td>NaN</td>\n",
       "      <td>NaN</td>\n",
       "      <td>...</td>\n",
       "      <td>NaN</td>\n",
       "      <td>NaN</td>\n",
       "      <td>NaN</td>\n",
       "      <td>NaN</td>\n",
       "      <td>NaN</td>\n",
       "      <td>NaN</td>\n",
       "      <td>NaN</td>\n",
       "      <td>NaN</td>\n",
       "      <td>NaN</td>\n",
       "      <td>NaN</td>\n",
       "    </tr>\n",
       "    <tr>\n",
       "      <th>5</th>\n",
       "      <td>NaN</td>\n",
       "      <td>NaN</td>\n",
       "      <td>NaN</td>\n",
       "      <td>NaN</td>\n",
       "      <td>NaN</td>\n",
       "      <td>NaN</td>\n",
       "      <td>NaN</td>\n",
       "      <td>NaN</td>\n",
       "      <td>NaN</td>\n",
       "      <td>NaN</td>\n",
       "      <td>...</td>\n",
       "      <td>NaN</td>\n",
       "      <td>NaN</td>\n",
       "      <td>NaN</td>\n",
       "      <td>NaN</td>\n",
       "      <td>NaN</td>\n",
       "      <td>NaN</td>\n",
       "      <td>NaN</td>\n",
       "      <td>NaN</td>\n",
       "      <td>NaN</td>\n",
       "      <td>NaN</td>\n",
       "    </tr>\n",
       "    <tr>\n",
       "      <th>...</th>\n",
       "      <td>...</td>\n",
       "      <td>...</td>\n",
       "      <td>...</td>\n",
       "      <td>...</td>\n",
       "      <td>...</td>\n",
       "      <td>...</td>\n",
       "      <td>...</td>\n",
       "      <td>...</td>\n",
       "      <td>...</td>\n",
       "      <td>...</td>\n",
       "      <td>...</td>\n",
       "      <td>...</td>\n",
       "      <td>...</td>\n",
       "      <td>...</td>\n",
       "      <td>...</td>\n",
       "      <td>...</td>\n",
       "      <td>...</td>\n",
       "      <td>...</td>\n",
       "      <td>...</td>\n",
       "      <td>...</td>\n",
       "      <td>...</td>\n",
       "    </tr>\n",
       "    <tr>\n",
       "      <th>606</th>\n",
       "      <td>NaN</td>\n",
       "      <td>NaN</td>\n",
       "      <td>NaN</td>\n",
       "      <td>NaN</td>\n",
       "      <td>NaN</td>\n",
       "      <td>NaN</td>\n",
       "      <td>NaN</td>\n",
       "      <td>NaN</td>\n",
       "      <td>NaN</td>\n",
       "      <td>NaN</td>\n",
       "      <td>...</td>\n",
       "      <td>NaN</td>\n",
       "      <td>NaN</td>\n",
       "      <td>NaN</td>\n",
       "      <td>NaN</td>\n",
       "      <td>NaN</td>\n",
       "      <td>NaN</td>\n",
       "      <td>NaN</td>\n",
       "      <td>NaN</td>\n",
       "      <td>NaN</td>\n",
       "      <td>NaN</td>\n",
       "    </tr>\n",
       "    <tr>\n",
       "      <th>607</th>\n",
       "      <td>NaN</td>\n",
       "      <td>NaN</td>\n",
       "      <td>NaN</td>\n",
       "      <td>NaN</td>\n",
       "      <td>NaN</td>\n",
       "      <td>NaN</td>\n",
       "      <td>NaN</td>\n",
       "      <td>NaN</td>\n",
       "      <td>NaN</td>\n",
       "      <td>NaN</td>\n",
       "      <td>...</td>\n",
       "      <td>NaN</td>\n",
       "      <td>NaN</td>\n",
       "      <td>NaN</td>\n",
       "      <td>NaN</td>\n",
       "      <td>NaN</td>\n",
       "      <td>NaN</td>\n",
       "      <td>NaN</td>\n",
       "      <td>NaN</td>\n",
       "      <td>NaN</td>\n",
       "      <td>NaN</td>\n",
       "    </tr>\n",
       "    <tr>\n",
       "      <th>608</th>\n",
       "      <td>NaN</td>\n",
       "      <td>NaN</td>\n",
       "      <td>NaN</td>\n",
       "      <td>NaN</td>\n",
       "      <td>NaN</td>\n",
       "      <td>NaN</td>\n",
       "      <td>NaN</td>\n",
       "      <td>NaN</td>\n",
       "      <td>NaN</td>\n",
       "      <td>NaN</td>\n",
       "      <td>...</td>\n",
       "      <td>NaN</td>\n",
       "      <td>NaN</td>\n",
       "      <td>NaN</td>\n",
       "      <td>NaN</td>\n",
       "      <td>NaN</td>\n",
       "      <td>4.5</td>\n",
       "      <td>3.5</td>\n",
       "      <td>NaN</td>\n",
       "      <td>NaN</td>\n",
       "      <td>NaN</td>\n",
       "    </tr>\n",
       "    <tr>\n",
       "      <th>609</th>\n",
       "      <td>NaN</td>\n",
       "      <td>NaN</td>\n",
       "      <td>NaN</td>\n",
       "      <td>NaN</td>\n",
       "      <td>NaN</td>\n",
       "      <td>NaN</td>\n",
       "      <td>NaN</td>\n",
       "      <td>NaN</td>\n",
       "      <td>NaN</td>\n",
       "      <td>NaN</td>\n",
       "      <td>...</td>\n",
       "      <td>NaN</td>\n",
       "      <td>NaN</td>\n",
       "      <td>NaN</td>\n",
       "      <td>NaN</td>\n",
       "      <td>NaN</td>\n",
       "      <td>NaN</td>\n",
       "      <td>NaN</td>\n",
       "      <td>NaN</td>\n",
       "      <td>NaN</td>\n",
       "      <td>NaN</td>\n",
       "    </tr>\n",
       "    <tr>\n",
       "      <th>610</th>\n",
       "      <td>4.0</td>\n",
       "      <td>NaN</td>\n",
       "      <td>NaN</td>\n",
       "      <td>NaN</td>\n",
       "      <td>NaN</td>\n",
       "      <td>NaN</td>\n",
       "      <td>NaN</td>\n",
       "      <td>NaN</td>\n",
       "      <td>3.5</td>\n",
       "      <td>NaN</td>\n",
       "      <td>...</td>\n",
       "      <td>NaN</td>\n",
       "      <td>4.0</td>\n",
       "      <td>3.5</td>\n",
       "      <td>3.0</td>\n",
       "      <td>NaN</td>\n",
       "      <td>NaN</td>\n",
       "      <td>2.0</td>\n",
       "      <td>1.5</td>\n",
       "      <td>NaN</td>\n",
       "      <td>NaN</td>\n",
       "    </tr>\n",
       "  </tbody>\n",
       "</table>\n",
       "<p>610 rows × 9681 columns</p>\n",
       "</div>"
      ],
      "text/plain": [
       "title   '71 (2014)  'Hellboy': The Seeds of Creation (2004)  \\\n",
       "userId                                                        \n",
       "1              NaN                                      NaN   \n",
       "2              NaN                                      NaN   \n",
       "3              NaN                                      NaN   \n",
       "4              NaN                                      NaN   \n",
       "5              NaN                                      NaN   \n",
       "...            ...                                      ...   \n",
       "606            NaN                                      NaN   \n",
       "607            NaN                                      NaN   \n",
       "608            NaN                                      NaN   \n",
       "609            NaN                                      NaN   \n",
       "610            4.0                                      NaN   \n",
       "\n",
       "title   'Round Midnight (1986)  'Salem's Lot (2004)  \\\n",
       "userId                                                \n",
       "1                          NaN                  NaN   \n",
       "2                          NaN                  NaN   \n",
       "3                          NaN                  NaN   \n",
       "4                          NaN                  NaN   \n",
       "5                          NaN                  NaN   \n",
       "...                        ...                  ...   \n",
       "606                        NaN                  NaN   \n",
       "607                        NaN                  NaN   \n",
       "608                        NaN                  NaN   \n",
       "609                        NaN                  NaN   \n",
       "610                        NaN                  NaN   \n",
       "\n",
       "title   'Til There Was You (1997)  'Tis the Season for Love (2015)  \\\n",
       "userId                                                               \n",
       "1                             NaN                              NaN   \n",
       "2                             NaN                              NaN   \n",
       "3                             NaN                              NaN   \n",
       "4                             NaN                              NaN   \n",
       "5                             NaN                              NaN   \n",
       "...                           ...                              ...   \n",
       "606                           NaN                              NaN   \n",
       "607                           NaN                              NaN   \n",
       "608                           NaN                              NaN   \n",
       "609                           NaN                              NaN   \n",
       "610                           NaN                              NaN   \n",
       "\n",
       "title   'burbs, The (1989)  'night Mother (1986)  (500) Days of Summer (2009)  \\\n",
       "userId                                                                          \n",
       "1                      NaN                   NaN                          NaN   \n",
       "2                      NaN                   NaN                          NaN   \n",
       "3                      NaN                   NaN                          NaN   \n",
       "4                      NaN                   NaN                          NaN   \n",
       "5                      NaN                   NaN                          NaN   \n",
       "...                    ...                   ...                          ...   \n",
       "606                    NaN                   NaN                          NaN   \n",
       "607                    NaN                   NaN                          NaN   \n",
       "608                    NaN                   NaN                          NaN   \n",
       "609                    NaN                   NaN                          NaN   \n",
       "610                    NaN                   NaN                          3.5   \n",
       "\n",
       "title   *batteries not included (1987)  ...  Zulu (2013)  [REC] (2007)  \\\n",
       "userId                                  ...                              \n",
       "1                                  NaN  ...          NaN           NaN   \n",
       "2                                  NaN  ...          NaN           NaN   \n",
       "3                                  NaN  ...          NaN           NaN   \n",
       "4                                  NaN  ...          NaN           NaN   \n",
       "5                                  NaN  ...          NaN           NaN   \n",
       "...                                ...  ...          ...           ...   \n",
       "606                                NaN  ...          NaN           NaN   \n",
       "607                                NaN  ...          NaN           NaN   \n",
       "608                                NaN  ...          NaN           NaN   \n",
       "609                                NaN  ...          NaN           NaN   \n",
       "610                                NaN  ...          NaN           4.0   \n",
       "\n",
       "title   [REC]² (2009)  [REC]³ 3 Génesis (2012)  \\\n",
       "userId                                           \n",
       "1                 NaN                      NaN   \n",
       "2                 NaN                      NaN   \n",
       "3                 NaN                      NaN   \n",
       "4                 NaN                      NaN   \n",
       "5                 NaN                      NaN   \n",
       "...               ...                      ...   \n",
       "606               NaN                      NaN   \n",
       "607               NaN                      NaN   \n",
       "608               NaN                      NaN   \n",
       "609               NaN                      NaN   \n",
       "610               3.5                      3.0   \n",
       "\n",
       "title   anohana: The Flower We Saw That Day - The Movie (2013)  \\\n",
       "userId                                                           \n",
       "1                                                     NaN        \n",
       "2                                                     NaN        \n",
       "3                                                     NaN        \n",
       "4                                                     NaN        \n",
       "5                                                     NaN        \n",
       "...                                                   ...        \n",
       "606                                                   NaN        \n",
       "607                                                   NaN        \n",
       "608                                                   NaN        \n",
       "609                                                   NaN        \n",
       "610                                                   NaN        \n",
       "\n",
       "title   eXistenZ (1999)  xXx (2002)  xXx: State of the Union (2005)  \\\n",
       "userId                                                                \n",
       "1                   NaN         NaN                             NaN   \n",
       "2                   NaN         NaN                             NaN   \n",
       "3                   NaN         NaN                             NaN   \n",
       "4                   NaN         NaN                             NaN   \n",
       "5                   NaN         NaN                             NaN   \n",
       "...                 ...         ...                             ...   \n",
       "606                 NaN         NaN                             NaN   \n",
       "607                 NaN         NaN                             NaN   \n",
       "608                 4.5         3.5                             NaN   \n",
       "609                 NaN         NaN                             NaN   \n",
       "610                 NaN         2.0                             1.5   \n",
       "\n",
       "title   ¡Three Amigos! (1986)  À nous la liberté (Freedom for Us) (1931)  \n",
       "userId                                                                    \n",
       "1                         4.0                                        NaN  \n",
       "2                         NaN                                        NaN  \n",
       "3                         NaN                                        NaN  \n",
       "4                         NaN                                        NaN  \n",
       "5                         NaN                                        NaN  \n",
       "...                       ...                                        ...  \n",
       "606                       NaN                                        NaN  \n",
       "607                       NaN                                        NaN  \n",
       "608                       NaN                                        NaN  \n",
       "609                       NaN                                        NaN  \n",
       "610                       NaN                                        NaN  \n",
       "\n",
       "[610 rows x 9681 columns]"
      ]
     },
     "execution_count": 62,
     "metadata": {},
     "output_type": "execute_result"
    }
   ],
   "source": [
    "df = pd.merge(ratings_df, movies_df, how='left', on = 'movieId')\n",
    "movie_user_matrix = df.pivot_table(index='userId', columns='title', values='rating')\n",
    "movie_user_matrix"
   ]
  },
  {
   "cell_type": "markdown",
   "metadata": {},
   "source": [
    "> As most users will only review a few movies, majority of the values in this matrix will be NaN.\n",
    "\n",
    "> Now, let's consider that you wish look at movies that are similar to Lion King."
   ]
  },
  {
   "cell_type": "code",
   "execution_count": 63,
   "metadata": {},
   "outputs": [
    {
     "data": {
      "text/plain": [
       "userId\n",
       "1    NaN\n",
       "2    NaN\n",
       "3    NaN\n",
       "4    NaN\n",
       "5    3.0\n",
       "Name: Lion King, The (1994), dtype: float64"
      ]
     },
     "execution_count": 63,
     "metadata": {},
     "output_type": "execute_result"
    }
   ],
   "source": [
    "movie_name = \"Lion King, The (1994)\"\n",
    "movie_ratings_df = movie_user_matrix[movie_name]\n",
    "movie_ratings_df.head()"
   ]
  },
  {
   "cell_type": "markdown",
   "metadata": {},
   "source": [
    "> Retrieving movies where the ratings are extremely correlated with Lion King:"
   ]
  },
  {
   "cell_type": "code",
   "execution_count": 64,
   "metadata": {},
   "outputs": [
    {
     "data": {
      "text/html": [
       "<div>\n",
       "<style scoped>\n",
       "    .dataframe tbody tr th:only-of-type {\n",
       "        vertical-align: middle;\n",
       "    }\n",
       "\n",
       "    .dataframe tbody tr th {\n",
       "        vertical-align: top;\n",
       "    }\n",
       "\n",
       "    .dataframe thead th {\n",
       "        text-align: right;\n",
       "    }\n",
       "</style>\n",
       "<table border=\"1\" class=\"dataframe\">\n",
       "  <thead>\n",
       "    <tr style=\"text-align: right;\">\n",
       "      <th></th>\n",
       "      <th>Correlation</th>\n",
       "    </tr>\n",
       "    <tr>\n",
       "      <th>title</th>\n",
       "      <th></th>\n",
       "    </tr>\n",
       "  </thead>\n",
       "  <tbody>\n",
       "    <tr>\n",
       "      <th>Despicable Me 3 (2017)</th>\n",
       "      <td>1.0</td>\n",
       "    </tr>\n",
       "    <tr>\n",
       "      <th>Sound of Thunder, A (2005)</th>\n",
       "      <td>1.0</td>\n",
       "    </tr>\n",
       "    <tr>\n",
       "      <th>Damsels in Distress (2011)</th>\n",
       "      <td>1.0</td>\n",
       "    </tr>\n",
       "    <tr>\n",
       "      <th>Danny Deckchair (2003)</th>\n",
       "      <td>1.0</td>\n",
       "    </tr>\n",
       "    <tr>\n",
       "      <th>Joy (2015)</th>\n",
       "      <td>1.0</td>\n",
       "    </tr>\n",
       "    <tr>\n",
       "      <th>Only the Lonely (1991)</th>\n",
       "      <td>1.0</td>\n",
       "    </tr>\n",
       "    <tr>\n",
       "      <th>Soul Plane (2004)</th>\n",
       "      <td>1.0</td>\n",
       "    </tr>\n",
       "    <tr>\n",
       "      <th>Jobs (2013)</th>\n",
       "      <td>1.0</td>\n",
       "    </tr>\n",
       "    <tr>\n",
       "      <th>Ordet (Word, The) (1955)</th>\n",
       "      <td>1.0</td>\n",
       "    </tr>\n",
       "    <tr>\n",
       "      <th>Babe, The (1992)</th>\n",
       "      <td>1.0</td>\n",
       "    </tr>\n",
       "  </tbody>\n",
       "</table>\n",
       "</div>"
      ],
      "text/plain": [
       "                            Correlation\n",
       "title                                  \n",
       "Despicable Me 3 (2017)              1.0\n",
       "Sound of Thunder, A (2005)          1.0\n",
       "Damsels in Distress (2011)          1.0\n",
       "Danny Deckchair (2003)              1.0\n",
       "Joy (2015)                          1.0\n",
       "Only the Lonely (1991)              1.0\n",
       "Soul Plane (2004)                   1.0\n",
       "Jobs (2013)                         1.0\n",
       "Ordet (Word, The) (1955)            1.0\n",
       "Babe, The (1992)                    1.0"
      ]
     },
     "execution_count": 64,
     "metadata": {},
     "output_type": "execute_result"
    }
   ],
   "source": [
    "correlation = movie_user_matrix.corrwith(movie_ratings_df)\n",
    "similar_movies = pd.DataFrame(correlation, columns=['Correlation'])\n",
    "# removing nulls\n",
    "similar_movies.dropna(inplace=True)\n",
    "\n",
    "# Top 10 highly correlated movies with Lion King\n",
    "similar_movies.sort_values('Correlation', ascending=False).head(10)"
   ]
  },
  {
   "cell_type": "markdown",
   "metadata": {},
   "source": [
    "> Some of these ratings make sense, but some don't. Let's bring number of ratings in picture here. I will set a threshold of 50 to the number of ratings here:"
   ]
  },
  {
   "cell_type": "code",
   "execution_count": 65,
   "metadata": {},
   "outputs": [
    {
     "data": {
      "text/html": [
       "<div>\n",
       "<style scoped>\n",
       "    .dataframe tbody tr th:only-of-type {\n",
       "        vertical-align: middle;\n",
       "    }\n",
       "\n",
       "    .dataframe tbody tr th {\n",
       "        vertical-align: top;\n",
       "    }\n",
       "\n",
       "    .dataframe thead th {\n",
       "        text-align: right;\n",
       "    }\n",
       "</style>\n",
       "<table border=\"1\" class=\"dataframe\">\n",
       "  <thead>\n",
       "    <tr style=\"text-align: right;\">\n",
       "      <th></th>\n",
       "      <th>Correlation</th>\n",
       "      <th>num rating</th>\n",
       "    </tr>\n",
       "    <tr>\n",
       "      <th>title</th>\n",
       "      <th></th>\n",
       "      <th></th>\n",
       "    </tr>\n",
       "  </thead>\n",
       "  <tbody>\n",
       "    <tr>\n",
       "      <th>Lion King, The (1994)</th>\n",
       "      <td>1.000000</td>\n",
       "      <td>172.0</td>\n",
       "    </tr>\n",
       "    <tr>\n",
       "      <th>Guardians of the Galaxy (2014)</th>\n",
       "      <td>0.673887</td>\n",
       "      <td>59.0</td>\n",
       "    </tr>\n",
       "    <tr>\n",
       "      <th>X2: X-Men United (2003)</th>\n",
       "      <td>0.596938</td>\n",
       "      <td>76.0</td>\n",
       "    </tr>\n",
       "    <tr>\n",
       "      <th>Aladdin (1992)</th>\n",
       "      <td>0.591660</td>\n",
       "      <td>183.0</td>\n",
       "    </tr>\n",
       "    <tr>\n",
       "      <th>While You Were Sleeping (1995)</th>\n",
       "      <td>0.565303</td>\n",
       "      <td>98.0</td>\n",
       "    </tr>\n",
       "    <tr>\n",
       "      <th>Casper (1995)</th>\n",
       "      <td>0.555249</td>\n",
       "      <td>62.0</td>\n",
       "    </tr>\n",
       "    <tr>\n",
       "      <th>Hook (1991)</th>\n",
       "      <td>0.541501</td>\n",
       "      <td>53.0</td>\n",
       "    </tr>\n",
       "    <tr>\n",
       "      <th>Grumpier Old Men (1995)</th>\n",
       "      <td>0.541416</td>\n",
       "      <td>52.0</td>\n",
       "    </tr>\n",
       "    <tr>\n",
       "      <th>Predator (1987)</th>\n",
       "      <td>0.533184</td>\n",
       "      <td>61.0</td>\n",
       "    </tr>\n",
       "    <tr>\n",
       "      <th>Beautiful Mind, A (2001)</th>\n",
       "      <td>0.533109</td>\n",
       "      <td>123.0</td>\n",
       "    </tr>\n",
       "  </tbody>\n",
       "</table>\n",
       "</div>"
      ],
      "text/plain": [
       "                                Correlation  num rating\n",
       "title                                                  \n",
       "Lion King, The (1994)              1.000000       172.0\n",
       "Guardians of the Galaxy (2014)     0.673887        59.0\n",
       "X2: X-Men United (2003)            0.596938        76.0\n",
       "Aladdin (1992)                     0.591660       183.0\n",
       "While You Were Sleeping (1995)     0.565303        98.0\n",
       "Casper (1995)                      0.555249        62.0\n",
       "Hook (1991)                        0.541501        53.0\n",
       "Grumpier Old Men (1995)            0.541416        52.0\n",
       "Predator (1987)                    0.533184        61.0\n",
       "Beautiful Mind, A (2001)           0.533109       123.0"
      ]
     },
     "execution_count": 65,
     "metadata": {},
     "output_type": "execute_result"
    }
   ],
   "source": [
    "similar_movies = pd.merge(similar_movies, movies_df[['title','num rating']].drop_duplicates(), left_index=True, right_on='title')\n",
    "similar_movies.set_index('title', inplace=True)\n",
    "\n",
    "# Top 10 highly correlated movies with Lion King that have been rated more than 50 times\n",
    "threshold = 50\n",
    "similar_movies.sort_values('Correlation', ascending=False)[similar_movies['num rating']>threshold].head(10)"
   ]
  },
  {
   "cell_type": "markdown",
   "metadata": {},
   "source": [
    "> While there are some movies like Aladdin that do make sense here, most don't. This means that maybe we need to improve our model or add more information to help the model."
   ]
  },
  {
   "cell_type": "markdown",
   "metadata": {},
   "source": [
    "## User based Collabrative Filtering using surprise library"
   ]
  },
  {
   "cell_type": "markdown",
   "metadata": {},
   "source": [
    "For our next few models, we will utilize the `surprise` library which allows us to build complex recommendation engine pipelines effortlessly.I will try out a total of five algoritms.\n",
    "\n",
    "First tree are KNN based algoritms:\n",
    "\n",
    "   - `KNNBasic`\n",
    "   - `KNNWithMeans`\n",
    "   - `KNNWithZone`\n",
    "   \n",
    "Next two are matrix factorization based algoritms:\n",
    "\n",
    "   - `SVD`\n",
    "   - `SVDpp`\n",
    "   \n",
    "I will evaluate top models from each list and then do grid search on them to search for the best hyperparameters.\n",
    "\n",
    "But first, I will convert our dataset into something that the surprise library can understand."
   ]
  },
  {
   "cell_type": "code",
   "execution_count": 67,
   "metadata": {},
   "outputs": [],
   "source": [
    "from surprise import Dataset\n",
    "from surprise import Reader\n",
    "from surprise import SVD, SVDpp\n",
    "from surprise.prediction_algorithms import KNNWithMeans, KNNBasic, KNNWithZScore\n",
    "from surprise.model_selection import GridSearchCV\n",
    "from surprise.model_selection import cross_validate"
   ]
  },
  {
   "cell_type": "code",
   "execution_count": 68,
   "metadata": {},
   "outputs": [
    {
     "name": "stdout",
     "output_type": "stream",
     "text": [
      "Number of users:  610 \n",
      "\n",
      "Number of items:  9719\n"
     ]
    }
   ],
   "source": [
    "# read in values as Surprise dataset\n",
    "reader = Reader(rating_scale=(0,5))\n",
    "data = Dataset.load_from_df(ratings_df, reader)\n",
    "\n",
    "#generating a trainset\n",
    "dataset = data.build_full_trainset()\n",
    "print('Number of users: ', dataset.n_users, '\\n')\n",
    "print('Number of items: ', dataset.n_items)"
   ]
  },
  {
   "cell_type": "code",
   "execution_count": 69,
   "metadata": {},
   "outputs": [
    {
     "name": "stdout",
     "output_type": "stream",
     "text": [
      "Evaluating RMSE, MAE of algorithm KNNBasic on 5 split(s).\n",
      "\n",
      "                  Fold 1  Fold 2  Fold 3  Fold 4  Fold 5  Mean    Std     \n",
      "RMSE (testset)    0.9447  0.9449  0.9590  0.9442  0.9421  0.9470  0.0061  \n",
      "MAE (testset)     0.7263  0.7232  0.7337  0.7230  0.7241  0.7260  0.0040  \n",
      "Fit time          0.24    0.26    0.26    0.23    0.23    0.24    0.01    \n",
      "Test time         2.02    2.09    2.03    2.03    2.04    2.04    0.02    \n",
      "Evaluating RMSE, MAE of algorithm KNNWithMeans on 5 split(s).\n",
      "\n",
      "                  Fold 1  Fold 2  Fold 3  Fold 4  Fold 5  Mean    Std     \n",
      "RMSE (testset)    0.8986  0.8930  0.8992  0.8962  0.9029  0.8980  0.0033  \n",
      "MAE (testset)     0.6868  0.6821  0.6864  0.6846  0.6883  0.6856  0.0021  \n",
      "Fit time          0.23    0.24    0.24    0.28    0.27    0.25    0.02    \n",
      "Test time         2.21    2.31    2.22    2.28    2.20    2.24    0.04    \n",
      "Evaluating RMSE, MAE of algorithm KNNWithZScore on 5 split(s).\n",
      "\n",
      "                  Fold 1  Fold 2  Fold 3  Fold 4  Fold 5  Mean    Std     \n",
      "RMSE (testset)    0.9058  0.9057  0.8956  0.8901  0.8910  0.8977  0.0069  \n",
      "MAE (testset)     0.6861  0.6869  0.6810  0.6747  0.6754  0.6808  0.0051  \n",
      "Fit time          0.38    0.44    0.43    0.38    0.36    0.40    0.03    \n",
      "Test time         3.03    2.92    2.81    2.83    2.86    2.89    0.08    \n"
     ]
    }
   ],
   "source": [
    "# knn algoritms\n",
    "cv_knn_basic = cross_validate(KNNBasic(), data, cv=5, n_jobs=5, verbose=True)\n",
    "cv_knn_means = cross_validate(KNNWithMeans(), data, cv=5, n_jobs=5, verbose=True)\n",
    "cv_knn_z = cross_validate(KNNWithZScore(), data, cv=5, n_jobs=5, verbose=True)"
   ]
  },
  {
   "cell_type": "code",
   "execution_count": 70,
   "metadata": {},
   "outputs": [
    {
     "name": "stdout",
     "output_type": "stream",
     "text": [
      "Evaluating RMSE, MAE of algorithm SVD on 5 split(s).\n",
      "\n",
      "                  Fold 1  Fold 2  Fold 3  Fold 4  Fold 5  Mean    Std     \n",
      "RMSE (testset)    0.8675  0.8800  0.8748  0.8787  0.8629  0.8728  0.0066  \n",
      "MAE (testset)     0.6697  0.6752  0.6735  0.6747  0.6639  0.6714  0.0042  \n",
      "Fit time          7.12    6.95    6.74    7.27    6.73    6.96    0.21    \n",
      "Test time         0.20    0.17    0.17    0.13    0.20    0.18    0.03    \n",
      "Evaluating RMSE, MAE of algorithm SVDpp on 5 split(s).\n",
      "\n",
      "                  Fold 1  Fold 2  Fold 3  Fold 4  Fold 5  Mean    Std     \n",
      "RMSE (testset)    0.8609  0.8609  0.8561  0.8621  0.8628  0.8605  0.0024  \n",
      "MAE (testset)     0.6600  0.6603  0.6590  0.6596  0.6612  0.6600  0.0007  \n",
      "Fit time          1413.85 1401.63 1411.18 1401.73 1416.58 1408.99 6.21    \n",
      "Test time         13.53   17.01   15.11   17.89   12.07   15.12   2.15    \n"
     ]
    }
   ],
   "source": [
    "# matrix factorization algoritms\n",
    "cv_svd = cross_validate(SVD(), data, cv=5, n_jobs=5, verbose=True)\n",
    "cv_svd_pp = cross_validate(SVDpp(), data, cv=5, n_jobs=5, verbose=True)"
   ]
  },
  {
   "cell_type": "code",
   "execution_count": 77,
   "metadata": {},
   "outputs": [
    {
     "name": "stdout",
     "output_type": "stream",
     "text": [
      "Evaluation Results:\n",
      "Algoritm\t RMSE\t\t MAE\n",
      "\n",
      "KNN Basic \t 0.947 \t\t 0.726\n",
      "KNN Means \t 0.898 \t\t 0.6856\n",
      "KNN ZScore \t 0.8977 \t 0.6808\n",
      "\n",
      "SVD \t\t 0.8728 \t 0.6714\n",
      "SVDpp \t\t 0.8605 \t 0.66\n"
     ]
    }
   ],
   "source": [
    "# Printing out the results for these algoritms\n",
    "# first run time approximately 18min.\n",
    "print('Evaluation Results:')\n",
    "print('Algoritm\\t RMSE\\t\\t MAE')\n",
    "print()\n",
    "print('KNN Basic', '\\t', round(cv_knn_basic['test_rmse'].mean(), 4), '\\t\\t', round(cv_knn_basic['test_mae'].mean(), 4))\n",
    "print('KNN Means', '\\t', round(cv_knn_means['test_rmse'].mean(), 4), '\\t\\t', round(cv_knn_means['test_mae'].mean(), 4))\n",
    "print('KNN ZScore', '\\t', round(cv_knn_z['test_rmse'].mean(), 4), '\\t', round(cv_knn_z['test_mae'].mean(), 4))\n",
    "print()\n",
    "print('SVD', '\\t\\t', round(cv_svd['test_rmse'].mean(), 4), '\\t', round(cv_svd['test_mae'].mean(), 4))\n",
    "print('SVDpp', '\\t\\t', round(cv_svd_pp['test_rmse'].mean(), 4), '\\t', round(cv_svd_pp['test_mae'].mean(), 4))"
   ]
  },
  {
   "cell_type": "code",
   "execution_count": 78,
   "metadata": {},
   "outputs": [
    {
     "data": {
      "image/png": "[encoded data removed]",
      "text/plain": [
       "<Figure size 1440x360 with 2 Axes>"
      ]
     },
     "metadata": {
      "needs_background": "light"
     },
     "output_type": "display_data"
    }
   ],
   "source": [
    "# Plotting graphs for comparing accuracy of each algo\n",
    "x_algo = ['KNN Basic', 'KNN Means', 'KNN ZScore', 'SVD', 'SVDpp',]\n",
    "all_algos_cv = [cv_knn_basic, cv_knn_means, cv_knn_z, cv_svd, cv_svd_pp]\n",
    "\n",
    "rmse_cv = [round(res['test_rmse'].mean(), 4) for res in all_algos_cv]\n",
    "mae_cv = [round(res['test_mae'].mean(), 4) for res in all_algos_cv]\n",
    "\n",
    "plt.figure(figsize=(20,5))\n",
    "\n",
    "# RMSE graph\n",
    "plt.subplot(1, 2, 1)\n",
    "plt.title('Comparison of Algorithms on RMSE', loc='center', fontsize=15)\n",
    "plt.plot(x_algo, rmse_cv, label='RMSE', color='darkgreen', marker='o')\n",
    "plt.xlabel('Algorithms', fontsize=15)\n",
    "plt.ylabel('RMSE Value', fontsize=15)\n",
    "plt.legend()\n",
    "plt.grid(ls='dashed')\n",
    "\n",
    "# MAE graph\n",
    "plt.subplot(1, 2, 2)\n",
    "plt.title('Comparison of Algorithms on MAE', loc='center', fontsize=15)\n",
    "plt.plot(x_algo, mae_cv, label='MAE', color='navy', marker='o')\n",
    "plt.xlabel('Algorithms', fontsize=15)\n",
    "plt.ylabel('MAE Value', fontsize=15)\n",
    "plt.legend()\n",
    "plt.grid(ls='dashed')\n",
    "\n",
    "plt.show()"
   ]
  },
  {
   "cell_type": "markdown",
   "metadata": {},
   "source": [
    "> Both the Matrix Factorization algorithms seem to do much better for both the metrics. KNN Means and KNN ZScore are also okay as compared to KNN Basic.\n",
    "\n",
    "> Selecting top models from each algorithm type: **KNN Means** and **SVDpp**"
   ]
  },
  {
   "cell_type": "markdown",
   "metadata": {},
   "source": [
    "## KNN Based Algorithms"
   ]
  },
  {
   "cell_type": "markdown",
   "metadata": {},
   "source": [
    "I will now optimize on these two models. Let's start with KNN Means. We will optimize two hyperparameters: `k(numver of neighbors` and `distance metric`.First, I search for optimal `k` between 5 and 100."
   ]
  },
  {
   "cell_type": "code",
   "execution_count": 79,
   "metadata": {},
   "outputs": [],
   "source": [
    "param_grid = {'k': [5, 10, 15, 20, 25, 30, 35, 40, 50, 60, 70, 80, 90, 100]}\n",
    "\n",
    "gs_knn_means = GridSearchCV(KNNWithMeans, param_grid, measures=['rmse', 'mae'], cv=5, n_jobs=5)\n",
    "gs_knn_means.fit(data)\n",
    "\n",
    "y1 = gs_knn_means.cv_results['mean_test_rmse']\n",
    "y2 = gs_knn_means.cv_results['mean_test_mae']"
   ]
  },
  {
   "cell_type": "code",
   "execution_count": 85,
   "metadata": {},
   "outputs": [
    {
     "data": {
      "image/png": "[encoded data removed]",
      "text/plain": [
       "<Figure size 1296x1080 with 2 Axes>"
      ]
     },
     "metadata": {
      "needs_background": "light"
     },
     "output_type": "display_data"
    }
   ],
   "source": [
    "# plotting accuracies for comparison\n",
    "plt.figure(figsize = (18, 15))\n",
    "\n",
    "x = [5, 10, 15, 20, 25, 30, 35, 40, 50, 60, 70, 80, 90, 100]\n",
    "\n",
    "plt.subplot(1, 2, 1)\n",
    "plt.title('K Neighbors vs RMSE', loc='center', fontsize=15)\n",
    "plt.plot(x, y1, label='KNNWithMeans', color='lightcoral', marker='o')\n",
    "plt.xlabel('K Neighbors', fontsize=15)\n",
    "plt.ylabel('RMSE Value', fontsize=15)\n",
    "plt.legend()\n",
    "plt.grid(ls='dotted')\n",
    "\n",
    "plt.subplot(1, 2, 2)\n",
    "plt.title('K Neighbors vs MAE', loc='center', fontsize=15)\n",
    "plt.plot(x, y2, label='KNNWithMeans', color='lightcoral', marker='o')\n",
    "plt.xlabel('K Neighbors', fontsize=15)\n",
    "plt.ylabel('MAE Value', fontsize=15)\n",
    "plt.legend()\n",
    "plt.grid(ls='dotted')\n",
    "\n",
    "plt.show()"
   ]
  },
  {
   "cell_type": "markdown",
   "metadata": {},
   "source": [
    " Optimal `k` is found at 20. Now, we will look for the best distance metric out of these four: `cosine`, `pearson`, `msd` and `pearson baseline`."
   ]
  },
  {
   "cell_type": "code",
   "execution_count": 86,
   "metadata": {},
   "outputs": [
    {
     "name": "stdout",
     "output_type": "stream",
     "text": [
      "Evaluating RMSE, MAE of algorithm KNNWithMeans on 5 split(s).\n",
      "\n",
      "                  Fold 1  Fold 2  Fold 3  Fold 4  Fold 5  Mean    Std     \n",
      "RMSE (testset)    0.9073  0.9087  0.9021  0.8979  0.8995  0.9031  0.0042  \n",
      "MAE (testset)     0.6955  0.6943  0.6909  0.6901  0.6893  0.6920  0.0024  \n",
      "Fit time          0.83    0.91    0.88    0.84    0.80    0.85    0.04    \n",
      "Test time         2.12    2.18    2.11    2.17    2.12    2.14    0.03    \n",
      "Evaluating RMSE, MAE of algorithm KNNWithMeans on 5 split(s).\n",
      "\n",
      "                  Fold 1  Fold 2  Fold 3  Fold 4  Fold 5  Mean    Std     \n",
      "RMSE (testset)    0.8949  0.9036  0.9043  0.9069  0.8893  0.8998  0.0066  \n",
      "MAE (testset)     0.6835  0.6876  0.6866  0.6904  0.6775  0.6851  0.0044  \n",
      "Fit time          1.06    0.95    0.96    1.03    1.01    1.00    0.04    \n",
      "Test time         1.87    1.83    1.74    1.85    1.79    1.82    0.05    \n",
      "Evaluating RMSE, MAE of algorithm KNNWithMeans on 5 split(s).\n",
      "\n",
      "                  Fold 1  Fold 2  Fold 3  Fold 4  Fold 5  Mean    Std     \n",
      "RMSE (testset)    0.9025  0.9004  0.8961  0.9063  0.8903  0.8991  0.0055  \n",
      "MAE (testset)     0.6917  0.6893  0.6876  0.6930  0.6801  0.6884  0.0045  \n",
      "Fit time          0.53    0.57    0.55    0.48    0.43    0.51    0.05    \n",
      "Test time         2.11    2.01    2.04    1.92    1.87    1.99    0.09    \n",
      "Evaluating RMSE, MAE of algorithm KNNWithMeans on 5 split(s).\n",
      "\n",
      "                  Fold 1  Fold 2  Fold 3  Fold 4  Fold 5  Mean    Std     \n",
      "RMSE (testset)    0.8978  0.8944  0.8876  0.8937  0.9049  0.8957  0.0057  \n",
      "MAE (testset)     0.6818  0.6776  0.6725  0.6780  0.6837  0.6787  0.0039  \n",
      "Fit time          0.91    0.85    0.91    0.91    0.93    0.90    0.03    \n",
      "Test time         1.91    1.91    1.88    1.86    1.85    1.88    0.02    \n"
     ]
    },
    {
     "data": {
      "image/png": "[encoded data removed]",
      "text/plain": [
       "<Figure size 1440x360 with 2 Axes>"
      ]
     },
     "metadata": {
      "needs_background": "light"
     },
     "output_type": "display_data"
    }
   ],
   "source": [
    "# user based\n",
    "\n",
    "knn_means_cosine = cross_validate(KNNWithMeans(k=20, sim_options={'name':'cosine'}), data, cv=5, n_jobs=5, verbose=True)\n",
    "\n",
    "knn_means_pearson = cross_validate(KNNWithMeans(k=20, sim_options={'name':'pearson'}), data, cv=5, n_jobs=5, verbose=True)\n",
    "\n",
    "knn_means_msd = cross_validate(KNNWithMeans(k=20, sim_options={'name':'msd'}), data, cv=5, n_jobs=5, verbose=True)\n",
    "\n",
    "knn_means_pearson_baseline = cross_validate(KNNWithMeans(k=20, sim_options={'name':'pearson_baseline'}), data, cv=5, n_jobs=5, verbose=True)\n",
    "\n",
    "\n",
    "x_distance = ['cosine', 'pearson', 'msd', 'pearson_baseline',]\n",
    "all_distances_cv = [knn_means_cosine, knn_means_pearson, knn_means_msd, knn_means_pearson_baseline]\n",
    "\n",
    "rmse_cv = [round(res['test_rmse'].mean(), 4) for res in all_distances_cv]\n",
    "mae_cv = [round(res['test_mae'].mean(), 4) for res in all_distances_cv]\n",
    "\n",
    "plt.figure(figsize=(20,5))\n",
    "\n",
    "plt.subplot(1, 2, 1)\n",
    "plt.title('Comparison of Distance Metrics on RMSE', loc='center', fontsize=15)\n",
    "plt.plot(x_distance, rmse_cv, label='RMSE', color='darkgreen', marker='o')\n",
    "plt.xlabel('Distance Metrics', fontsize=15)\n",
    "plt.ylabel('RMSE Value', fontsize=15)\n",
    "plt.legend()\n",
    "plt.grid(ls='dashed')\n",
    "\n",
    "plt.subplot(1, 2, 2)\n",
    "plt.title('Comparison of Distance Metrics on MAE', loc='center', fontsize=15)\n",
    "plt.plot(x_distance, mae_cv, label='MAE', color='navy', marker='o')\n",
    "plt.xlabel('Distance Metrics', fontsize=15)\n",
    "plt.ylabel('MAE Value', fontsize=15)\n",
    "plt.legend()\n",
    "plt.grid(ls='dashed')\n",
    "\n",
    "plt.show()"
   ]
  },
  {
   "cell_type": "markdown",
   "metadata": {},
   "source": [
    "Based on our hyperparameter tuning, the best KNN based model that we found out was:\n",
    "\n",
    "KNN-Means with k=20 and pearson_baseline similarity\n",
    "\n",
    " - **RMSE**: 0.8984\n",
    " - **MAE** : 0.6807"
   ]
  },
  {
   "cell_type": "markdown",
   "metadata": {},
   "source": [
    "## Matrix Factorization Based Algorithms"
   ]
  },
  {
   "cell_type": "markdown",
   "metadata": {},
   "source": [
    "Now, optimizing the SVDpp model for number of epochs, learning rate and regularization."
   ]
  },
  {
   "cell_type": "code",
   "execution_count": null,
   "metadata": {},
   "outputs": [],
   "source": [
    "#Prarameter space\n",
    "# run time approximately \n",
    "svd_param_grid = {'n_epochs': [20, 25, 30, 40, 50],\n",
    "                  'lr_all': [0.007, 0.009, 0.01, 0.02],\n",
    "                  'reg_all': [0.02, 0.04, 0.1, 0.2]}\n",
    "\n",
    "gs_svd_pp = GridSearchCV(SVDpp, svd_param_grid, measures=['rmse', 'mae'], cv=5, n_jobs=5)\n",
    "gs_svd_pp.fit(data)"
   ]
  },
  {
   "cell_type": "code",
   "execution_count": null,
   "metadata": {},
   "outputs": [],
   "source": [
    "print('Best value for SVDpp  -RMSE:', round(gs_svd_pp.best_score['rmse'], 4), '; MAE:', round(gs_svd_pp.best_score['mae'], 4))\n",
    "print('Optimal params RMSE =', gs_svd_pp.best_params['rmse'])\n",
    "print('optimal params MAE =', gs_svd_pp.best_params['mae'])"
   ]
  },
  {
   "cell_type": "markdown",
   "metadata": {},
   "source": [
    "Based on our hyperparameter tuning, the best Matrix factorization based model that we found out was:\n",
    "\n",
    "SVDpp with number of epochs = , learning rate = , and regularization =\n",
    "\n",
    "- **RMSE: \n",
    "- **MAE:"
   ]
  }
 ],
 "metadata": {
  "kernelspec": {
   "display_name": "Python (learn-env)",
   "language": "python",
   "name": "learn-env"
  },
  "language_info": {
   "codemirror_mode": {
    "name": "ipython",
    "version": 3
   },
   "file_extension": ".py",
   "mimetype": "text/x-python",
   "name": "python",
   "nbconvert_exporter": "python",
   "pygments_lexer": "ipython3",
   "version": "3.8.5"
  }
 },
 "nbformat": 4,
 "nbformat_minor": 4
}
